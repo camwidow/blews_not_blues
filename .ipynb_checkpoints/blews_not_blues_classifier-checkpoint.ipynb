{
 "cells": [
  {
   "cell_type": "markdown",
   "metadata": {
    "heading_collapsed": true
   },
   "source": [
    "# Import"
   ]
  },
  {
   "cell_type": "code",
   "execution_count": 242,
   "metadata": {
    "hidden": true
   },
   "outputs": [],
   "source": [
    "from sklearn.linear_model import SGDClassifier\n",
    "from sklearn.naive_bayes import MultinomialNB\n",
    "\n",
    "import pandas as pd\n",
    "import numpy as np\n",
    "import nltk\n",
    "from sklearn.ensemble import RandomForestClassifier\n",
    "from sklearn.linear_model import LogisticRegression\n",
    "from sklearn.dummy import DummyClassifier\n",
    "import pickle\n",
    "from sklearn.pipeline import Pipeline\n",
    "import seaborn as sns\n",
    "from nltk.corpus import stopwords\n",
    "from nltk.stem import WordNetLemmatizer\n",
    "from nltk.tokenize import RegexpTokenizer, sent_tokenize, word_tokenize\n",
    "from pprint import pprint as pp\n",
    "import string\n",
    "from nltk.stem.porter import PorterStemmer \n",
    "from collections import Counter \n",
    "import matplotlib.pyplot as plt\n",
    "from gensim.corpora.dictionary import Dictionary \n",
    "from sklearn.decomposition import PCA, TruncatedSVD\n",
    "import matplotlib\n",
    "import matplotlib.patches as mpatches\n",
    "import itertools\n",
    "from sklearn.pipeline import Pipeline, FeatureUnion\n",
    "from sklearn.metrics import confusion_matrix\n",
    "from sklearn.model_selection import train_test_split\n",
    "from sklearn.feature_extraction.text import CountVectorizer, TfidfVectorizer\n",
    "from sklearn.metrics import accuracy_score, f1_score, precision_score, recall_score, classification_report\n",
    "from sklearn.linear_model import LogisticRegression\n",
    "from sklearn.ensemble import RandomForestClassifier\n",
    "from sklearn.feature_extraction.text import TfidfTransformer\n",
    "\n",
    "import warnings\n",
    "from sklearn.decomposition import LatentDirichletAllocation as LDA\n",
    "from sklearn.model_selection import train_test_split\n",
    "from sklearn.linear_model import LogisticRegression\n",
    "from sklearn.model_selection import GridSearchCV\n",
    "from sklearn.model_selection import cross_val_score\n",
    "import torch\n",
    "import transformers as ppb\n",
    "from torch.utils.data import (DataLoader, RandomSampler, SequentialSampler, TensorDataset)\n",
    "from torch.nn import CrossEntropyLoss, MSELoss\n",
    "\n",
    "from tqdm import tqdm_notebook, trange\n",
    "import os\n",
    "from pytorch_pretrained_bert import BertTokenizer, BertModel, BertForMaskedLM, BertForSequenceClassification\n",
    "from pytorch_pretrained_bert.optimization import BertAdam, WarmupLinearSchedule\n",
    "from transformers import (glue_convert_examples_to_features, glue_output_modes,\n",
    "glue_processors)\n",
    "from multiprocessing import Pool, cpu_count\n",
    "#import tools \n",
    "#import convert_examples_to_features\n",
    "import joblib\n",
    "# OPTIONAL: if you want to have more information on what's happening, activate the logger as follows\n",
    "import logging\n",
    "logging.basicConfig(level=logging.INFO)\n",
    "\n",
    "device = torch.device(\"cuda\" if torch.cuda.is_available() else \"cpu\")\n",
    "\n",
    "from keras.preprocessing.text import Tokenizer\n",
    "from keras.preprocessing.sequence import pad_sequences\n",
    "from keras.utils import to_categorical\n",
    "import inflect\n",
    "from num2words import num2words\n",
    "import gensim\n",
    "warnings.simplefilter(\"ignore\", DeprecationWarning)\n",
    "from wordcloud import WordCloud, STOPWORDS, ImageColorGenerator"
   ]
  },
  {
   "cell_type": "markdown",
   "metadata": {
    "heading_collapsed": true
   },
   "source": [
    "# Functions"
   ]
  },
  {
   "cell_type": "code",
   "execution_count": 226,
   "metadata": {
    "hidden": true
   },
   "outputs": [
    {
     "ename": "NameError",
     "evalue": "name 'pipe_grid' is not defined",
     "output_type": "error",
     "traceback": [
      "\u001b[1;31m---------------------------------------------------------------------------\u001b[0m",
      "\u001b[1;31mNameError\u001b[0m                                 Traceback (most recent call last)",
      "\u001b[1;32m<ipython-input-226-2c413fd1e5f6>\u001b[0m in \u001b[0;36m<module>\u001b[1;34m\u001b[0m\n\u001b[0;32m     32\u001b[0m     \u001b[0max\u001b[0m\u001b[1;33m.\u001b[0m\u001b[0mgrid\u001b[0m\u001b[1;33m(\u001b[0m\u001b[1;34m'on'\u001b[0m\u001b[1;33m)\u001b[0m\u001b[1;33m\u001b[0m\u001b[1;33m\u001b[0m\u001b[0m\n\u001b[0;32m     33\u001b[0m \u001b[1;33m\u001b[0m\u001b[0m\n\u001b[1;32m---> 34\u001b[1;33m \u001b[0mplot_grid_search\u001b[0m\u001b[1;33m(\u001b[0m\u001b[0mpipe_grid\u001b[0m\u001b[1;33m.\u001b[0m\u001b[0mcv_results_\u001b[0m\u001b[1;33m,\u001b[0m \u001b[0mn_estimators\u001b[0m\u001b[1;33m,\u001b[0m \u001b[0mmax_features\u001b[0m\u001b[1;33m,\u001b[0m \u001b[1;34m'N Estimators'\u001b[0m\u001b[1;33m,\u001b[0m \u001b[1;34m'Max Features'\u001b[0m\u001b[1;33m)\u001b[0m\u001b[1;33m\u001b[0m\u001b[1;33m\u001b[0m\u001b[0m\n\u001b[0m\u001b[0;32m     35\u001b[0m \u001b[0mp\u001b[0m \u001b[1;33m=\u001b[0m \u001b[0minflect\u001b[0m\u001b[1;33m.\u001b[0m\u001b[0mengine\u001b[0m\u001b[1;33m(\u001b[0m\u001b[1;33m)\u001b[0m\u001b[1;33m\u001b[0m\u001b[1;33m\u001b[0m\u001b[0m\n\u001b[0;32m     36\u001b[0m \u001b[1;33m\u001b[0m\u001b[0m\n",
      "\u001b[1;31mNameError\u001b[0m: name 'pipe_grid' is not defined"
     ]
    }
   ],
   "source": [
    "w_tokenizer = nltk.tokenize.WhitespaceTokenizer()\n",
    "lemmatizer = nltk.stem.WordNetLemmatizer()\n",
    "\n",
    "def plot_grid_search(cv_results, grid_param_1, grid_param_2, name_param_1, name_param_2):\n",
    "\n",
    "    scores_mean = cv_results['mean_test_score']\n",
    "\n",
    "    scores_mean = np.array(scores_mean).reshape(len(grid_param_2),len(grid_param_1))\n",
    "\n",
    "    scores_sd = cv_results['std_test_score']\n",
    "\n",
    "    scores_sd = np.array(scores_sd).reshape(len(grid_param_2),len(grid_param_1))\n",
    "\n",
    "    # Plot Grid search scores\n",
    "\n",
    "    _, ax = plt.subplots(1,1)\n",
    "\n",
    "    # Param1 is the X-axis, Param 2 is represented as a different curve (color line)\n",
    "\n",
    "    for idx, val in enumerate(grid_param_2):\n",
    "\n",
    "        ax.plot(grid_param_1, scores_mean[idx,:], '-o', label= name_param_2 + ': ' + str(val))\n",
    "\n",
    "    ax.set_title(\"Grid Search Scores\", fontsize=20, fontweight='bold')\n",
    "\n",
    "    ax.set_xlabel(name_param_1, fontsize=16)\n",
    "\n",
    "    ax.set_ylabel('CV Average Score', fontsize=16)\n",
    "\n",
    "    ax.legend(loc=\"best\", fontsize=15)\n",
    "\n",
    "    ax.grid('on')\n",
    "\n",
    "plot_grid_search(pipe_grid.cv_results_, n_estimators, max_features, 'N Estimators', 'Max Features')\n",
    "p = inflect.engine() \n",
    "\n",
    "def cv(data):\n",
    "    \n",
    "    count_vectorizer = CountVectorizer()\n",
    "    \n",
    "    emp = count_vectorizer.fit_transform(data)\n",
    "    \n",
    "    return emp, count_vectorizer\n",
    "# convert number into words \n",
    "def convert_number(text): \n",
    "    # split string into list of words \n",
    "    temp_str = text.split() \n",
    "    # initialise empty list \n",
    "    new_string = [] \n",
    "    \n",
    "    for word in temp_str: \n",
    "        # if word is a digit, convert the digit \n",
    "        # to numbers and append into the new_string list \n",
    "        if word.isdigit(): \n",
    "            temp = p.number_to_words(word) \n",
    "            new_string.append(temp) \n",
    "  # append the word as it is \n",
    "        else: \n",
    "            new_string.append(word) \n",
    "# join the words of new_string to form a string \n",
    "    temp_str = ' '.join(new_string) \n",
    "    return temp_str \n",
    "  \n",
    "\n",
    "def standardize_text(df, text_field):\n",
    "    \"\"\" Function for cleaning text\"\"\"\n",
    "    df[text_field] = df[text_field].str.replace(r\"http\\S+\", \"\")\n",
    "    df[text_field] = df[text_field].str.replace(r\"http\", \"\")\n",
    "    df[text_field] = df[text_field].str.replace(r\"@\\S+\", \"\")\n",
    "    df[text_field] = df[text_field].str.replace(r\"[^A-Za-z0-9()!?@\\'\\`\\\"\\_\\n]\", \" \")\n",
    "    df[text_field] = df[text_field].str.replace(r\"@\", \"at\")\n",
    "    df[text_field] = df[text_field].str.replace(r\"'\", \"\")\n",
    "    df[text_field] = df[text_field].str.replace(r\"!\", \"\") \n",
    "    df[text_field] = df[text_field].str.lower()\n",
    "    return df\n",
    "\n",
    "\n",
    "def lemmatize_text(text):\n",
    "    return [lemmatizer.lemmatize(w) for w in w_tokenizer.tokenize(text)]\n",
    "\n",
    "\n",
    "\n",
    "def plot_confusion_matrix(cm, classes,\n",
    "                          normalize=False,\n",
    "                          title='Confusion matrix',\n",
    "                          cmap=plt.cm.winter):\n",
    "    if normalize:\n",
    "        cm = cm.astype('float') / cm.sum(axis=1)[:, np.newaxis]\n",
    "    plt.imshow(cm, interpolation='nearest', cmap=cmap)\n",
    "    plt.title(title, fontsize=30)\n",
    "    plt.colorbar()\n",
    "    tick_marks = np.arange(len(classes))\n",
    "    plt.xticks(tick_marks, classes, fontsize=20)\n",
    "    plt.yticks(tick_marks, classes, fontsize=20)\n",
    "    \n",
    "    fmt = '.2f' if normalize else 'd'\n",
    "    thresh = cm.max() / 2.\n",
    "\n",
    "    for i, j in itertools.product(range(cm.shape[0]), range(cm.shape[1])):\n",
    "        plt.text(j, i, format(cm[i, j], fmt), horizontalalignment=\"center\", \n",
    "                 color=\"white\" if cm[i, j] < thresh else \"black\", fontsize=40)\n",
    "    \n",
    "    plt.tight_layout()\n",
    "    plt.ylabel('True label', fontsize=30)\n",
    "    plt.xlabel('Predicted label', fontsize=30)\n",
    "\n",
    "    return plt\n",
    "\n",
    "def converttostr(input_seq, seperator):\n",
    "    final_str = seperator.join(input_seq)   \n",
    "    return final_str\n",
    "\n",
    "def print_topics(model, count_vectorizer, n_top_words):\n",
    "    words = count_vectorizer.get_feature_names()\n",
    "    for topic_idx, topic in enumerate(model.components_):\n",
    "        print(\"\\nTopic #%d:\" % topic_idx)\n",
    "        print(\" \".join([words[i]\n",
    "                        for i in topic.argsort()[:-n_top_words - 1:-1]]))\n",
    "        \n",
    "def cv(data):\n",
    "    \n",
    "    count_vectorizer = CountVectorizer()\n",
    "    \n",
    "    emp = count_vectorizer.fit_transform(data)\n",
    "    \n",
    "    return emp, count_vectorizer\n",
    "\n",
    "def tfidf(data):\n",
    "    tfidf_vectorizer = TfidfVectorizer()\n",
    "\n",
    "    train = tfidf_vectorizer.fit_transform(data)\n",
    "\n",
    "    return train, tfidf_vectorizer\n",
    "\n",
    "\n",
    "def remove_stopwords(text): \n",
    "    stop_words = set(stopwords.words(\"english\")) \n",
    "    word_tokens = word_tokenize(text) \n",
    "    filtered_text = [word for word in word_tokens if word not in stop_words] \n",
    "    return filtered_text \n",
    "from nltk.stem import WordNetLemmatizer \n",
    "from nltk.tokenize import word_tokenize \n",
    "lemmatizer = WordNetLemmatizer() \n",
    "# lemmatize string \n",
    "def lemmatize_word(text): \n",
    "    word_tokens = word_tokenize(text) \n",
    "    lemmas = [lemmatizer.lemmatize(word, pos ='v') for word in word_tokens] \n",
    "    return lemmas \n",
    "def get_metrics(y_test, y_predicted):  \n",
    "    # true positives / (true positives+false positives)\n",
    "    precision = precision_score(y_test, y_predicted, pos_label=None,\n",
    "                                    average='weighted')             \n",
    "    # true positives / (true positives + false negatives)\n",
    "    recall = recall_score(y_test, y_predicted, pos_label=None,\n",
    "                              average='weighted')\n",
    "    \n",
    "    # harmonic mean of precision and recall\n",
    "    f1 = f1_score(y_test, y_predicted, pos_label=None, average='weighted')\n",
    "    \n",
    "    # true positives + true negatives/ total\n",
    "    accuracy = accuracy_score(y_test, y_predicted)\n",
    "    return accuracy, precision, recall, f1\n",
    "def plot_important_words(top_scores, top_words, bottom_scores, bottom_words, name):\n",
    "    y_pos = np.arange(len(top_words))\n",
    "    top_pairs = [(a,b) for a,b in zip(top_words, top_scores)]\n",
    "    top_pairs = sorted(top_pairs, key=lambda x: x[1])\n",
    "    \n",
    "    bottom_pairs = [(a,b) for a,b in zip(bottom_words, bottom_scores)]\n",
    "    bottom_pairs = sorted(bottom_pairs, key=lambda x: x[1], reverse=True)\n",
    "    \n",
    "    top_words = [a[0] for a in top_pairs]\n",
    "    top_scores = [a[1] for a in top_pairs]\n",
    "    \n",
    "    bottom_words = [a[0] for a in bottom_pairs]\n",
    "    bottom_scores = [a[1] for a in bottom_pairs]\n",
    "    \n",
    "    fig = plt.figure(figsize=(10, 10))  \n",
    "\n",
    "    plt.subplot(121)\n",
    "    plt.barh(y_pos,bottom_scores, align='center', alpha=0.5)\n",
    "    plt.title('Neutral', fontsize=20)\n",
    "    plt.yticks(y_pos, bottom_words, fontsize=14)\n",
    "    plt.suptitle('Key words', fontsize=16)\n",
    "    plt.xlabel('Importance', fontsize=20)\n",
    "    \n",
    "    plt.subplot(122)\n",
    "    plt.barh(y_pos,top_scores, align='center', alpha=0.5)\n",
    "    plt.title('Disaster', fontsize=20)\n",
    "    plt.yticks(y_pos, top_words, fontsize=14)\n",
    "    plt.suptitle(name, fontsize=16)\n",
    "    plt.xlabel('Importance', fontsize=20)\n",
    "    \n",
    "    plt.subplots_adjust(wspace=0.8)\n",
    "    plt.show()\n",
    "#https://github.com/hundredblocks/concrete_NLP_tutorial/blob/master/NLP_notebook.ipynb\n",
    "def get_most_important_features(vectorizer, model, n = 5):\n",
    "    index_to_word = {v:k for k,v in vectorizer.vocabulary_.items()}\n",
    "    \n",
    "    #Loop for each class\n",
    "    classes = {}\n",
    "    for class_index in range(model.coef_.shape[0]):\n",
    "        word_importances = [(el, index_to_word[i]) for i,el in enumerate(model.coef_[class_index])]\n",
    "        sorted_coeff = sorted(word_importances, key = lambda x : x[0], reverse=True)\n",
    "        tops = sorted(sorted_coeff[:n], key = lambda x : x[0])\n",
    "        bottom = sorted_coeff[-n:]\n",
    "        classes[class_index] = {\n",
    "            'tops':tops,\n",
    "            'bottom':bottom\n",
    "        }\n",
    "    return classes\n",
    "def word_feats(words):\n",
    "        return dict([(word, True) for word in words])\n",
    "\n"
   ]
  },
  {
   "cell_type": "markdown",
   "metadata": {
    "heading_collapsed": true
   },
   "source": [
    "# Import data"
   ]
  },
  {
   "cell_type": "code",
   "execution_count": 208,
   "metadata": {
    "hidden": true
   },
   "outputs": [],
   "source": [
    "df = pd.read_csv('black_news_sent.csv')\n",
    "df.drop(['Unnamed: 0'], axis = 1, inplace = True)\n",
    "\n",
    "df.Sentiment[df.Sentiment == 'Negative'] = 0\n",
    "df.Sentiment[df.Sentiment == 'Neutral'] = 1\n",
    "df.Sentiment[df.Sentiment == 'Positive'] = 2\n",
    "\n",
    "df.dropna(inplace=True)\n",
    "df.reset_index(drop=True, inplace=True)\n",
    "\n",
    "\n",
    "sent = df.Sentiment\n",
    "\n",
    "tokenizer = nltk.RegexpTokenizer(r\"\\w+\") #Creat tokenizer\n",
    "df = standardize_text(df, 'newtitle') #remove punctuation and lower case\n",
    "\n",
    "title = standardize_text(df, 'newtitle') #remove punctuation and lower case\n",
    "\n",
    "title = title.newtitle #grab titles\n",
    "ntitle = title.apply(convert_number) #Convert digits to alpha numbers\n",
    "\n",
    "words = [w for w in ntitle if not w in ntitle]\n",
    "words = pd.Series(words)\n",
    "new_words = words.apply(tokenizer.tokenize) #Tokenize\n",
    "stop_words = set(stopwords.words('english')) #Filter stop words\n",
    "\n",
    "not_stopwords = {\"don't\",'when','between', 'under','all','against', 'not'} \n",
    "new_stopwords_list = stop_words.union(stop_words)\n",
    "\n",
    "\n",
    "final_stop_words = set([word for word in new_stopwords_list if word not in not_stopwords])\n",
    "\n",
    "filtered_titles = {}\n",
    "for i, s in enumerate(new_words):\n",
    "    filtered_titles[i]= []\n",
    "    for x in s:\n",
    "        if x not in final_stop_words:\n",
    "            filtered_titles[i].append(x)\n",
    "        else:\n",
    "            continue\n",
    "\n",
    "\n",
    "cats = df.cat\n",
    "\n"
   ]
  },
  {
   "cell_type": "code",
   "execution_count": 209,
   "metadata": {
    "hidden": true
   },
   "outputs": [
    {
     "data": {
      "text/plain": [
       "(2856, 5825)"
      ]
     },
     "execution_count": 209,
     "metadata": {},
     "output_type": "execute_result"
    }
   ],
   "source": [
    "df = pd.read_csv('black_news_sent.csv')\n",
    "df.drop(['Unnamed: 0'], axis = 1, inplace = True)\n",
    "\n",
    "df.Sentiment[df.Sentiment == 'Negative'] = 0\n",
    "df.Sentiment[df.Sentiment == 'Neutral'] = 1\n",
    "df.Sentiment[df.Sentiment == 'Positive'] = 2\n",
    "\n",
    "df.dropna(inplace=True)\n",
    "df.reset_index(drop=True, inplace=True)\n",
    "\n",
    "count_vect = CountVectorizer(stop_words=final_stop_words,)\n",
    "X_train_counts = count_vect.fit_transform(df.newtitle)\n",
    "X_train_counts.shape"
   ]
  },
  {
   "cell_type": "code",
   "execution_count": 210,
   "metadata": {
    "hidden": true
   },
   "outputs": [
    {
     "data": {
      "text/plain": [
       "(2856, 5825)"
      ]
     },
     "execution_count": 210,
     "metadata": {},
     "output_type": "execute_result"
    }
   ],
   "source": [
    "count_vect.vocabulary_.get(u'algorithm')\n",
    "tf_transformer = TfidfTransformer(use_idf=True).fit(X_train_counts)\n",
    "X_train_tf = tf_transformer.transform(X_train_counts)\n",
    "X_train_tf.shape"
   ]
  },
  {
   "cell_type": "code",
   "execution_count": 211,
   "metadata": {
    "hidden": true
   },
   "outputs": [
    {
     "data": {
      "text/plain": [
       "<2856x5945 sparse matrix of type '<class 'numpy.float64'>'\n",
       "\twith 33559 stored elements in Compressed Sparse Row format>"
      ]
     },
     "execution_count": 211,
     "metadata": {},
     "output_type": "execute_result"
    }
   ],
   "source": [
    "tf = TfidfVectorizer(max_features=None).fit(df.newtitle)\n",
    "tf.vocabulary_.__len__()  # returns 5945 as we passed 5945 words\n",
    "tf.fit_transform(df.newtitle)  #"
   ]
  },
  {
   "cell_type": "code",
   "execution_count": null,
   "metadata": {
    "hidden": true
   },
   "outputs": [],
   "source": [
    "\n",
    "tdf = pd.DataFrame([filtered_titles]).transpose()\n",
    "tdf.rename(columns={0:'x'}, inplace= True)\n",
    "tdf['y'] = sent\n",
    "tdf['cat']=cats\n",
    "art_words = tdf['x']\n",
    "art_words"
   ]
  },
  {
   "cell_type": "markdown",
   "metadata": {},
   "source": [
    "# Hyper-Parameter tuning/model selection-Cat"
   ]
  },
  {
   "cell_type": "code",
   "execution_count": 232,
   "metadata": {},
   "outputs": [],
   "source": [
    "newcorpus = art_words.apply(lambda x: converttostr(x, seperator= ' '))\n",
    "list_corpus = newcorpus.tolist() \n",
    "\n",
    "label1=df['cat']\n",
    "label2 =  [0 if x == 'biz' else 1 if x == 'gen' else 2 for x in label1]\n",
    "\n",
    "\n",
    "\n",
    "\n",
    "X_train, X_test, y_train_cat, y_test_cat = train_test_split(df.newtitle, label2, \n",
    "                                                    test_size=0.2,\n",
    "                                                    random_state=7274)\n"
   ]
  },
  {
   "cell_type": "code",
   "execution_count": 244,
   "metadata": {},
   "outputs": [],
   "source": [
    "sgparameters = {\n",
    "     'tfidf__use_idf': (True, False),\n",
    "     'clf__penalty':('l2', 'l1', 'elasticnet'),\n",
    "     'vect__ngram_range': [(1, 1), (1, 2), (1,3), (1,4), (1,5)],\n",
    "     'vect__max_features':(None, 5900, 5000, 4500, 4000, 3500),\n",
    "     'clf__alpha': (1, 1e-2, 1e-3, 1e-4),\n",
    "     'clf__max_iter':(400, 500, 800, 900, 1000, 1200, 1500)\n",
    "}\n",
    "sgd_clf = Pipeline([\n",
    "    ('vect', CountVectorizer(stop_words=final_stop_words, )),\n",
    "    ('tfidf', TfidfTransformer()),\n",
    "    ('clf', SGDClassifier(random_state=32))\n",
    "    ])\n",
    "sgd = GridSearchCV(sgd_clf, sgparameters, cv=5, n_jobs=-1, scoring='precision_micro')\n"
   ]
  },
  {
   "cell_type": "code",
   "execution_count": 245,
   "metadata": {},
   "outputs": [],
   "source": [
    "rfparameters = {\n",
    "     'tfidf__use_idf': (True, False),\n",
    "     'clf__n_estimators': (530, 540, 550, 560, 570, 600, 610, 620, 630),\n",
    "     'clf__min_samples_split':(1, 2, 3),\n",
    "     'clf__min_samples_leaf':(2,3,4,5,6),\n",
    "     'vect__ngram_range': [(1, 1), (1, 2), (1,3), (1,4), (1,5)],\n",
    "     'vect__max_features':(None, 5900, 5000, 4500, 4000, 3500),\n",
    "     'clf__max_features': ('auto', 'sqrt'),\n",
    "     'clf__max_depth':(18,19,20,21,22,23,24),\n",
    "     'clf__bootstrap':(False, True)\n",
    "}\n",
    "rf_clf = Pipeline([\n",
    "    ('vect', CountVectorizer(stop_words=final_stop_words, )),\n",
    "    ('tfidf', TfidfTransformer()),\n",
    "    ('clf', RandomForestClassifier(random_state=32))\n",
    "    ])\n",
    "rf = GridSearchCV(rf_clf, rfparameters, cv=5, n_jobs=-1, scoring='precision_micro')\n"
   ]
  },
  {
   "cell_type": "code",
   "execution_count": 247,
   "metadata": {},
   "outputs": [],
   "source": [
    "\n",
    "mnbparameters = {\n",
    "     'tfidf__use_idf': (True, False),\n",
    "     'vect__ngram_range': [(1, 1), (1, 2), (1,3), (1,4), (1,5)],\n",
    "     'vect__max_features':(None, 5900, 5000, 4500, 4000, 3500),\n",
    "     'mnb__alpha': np.linspace(0.5, 1.5, 6),\n",
    "     'mnb__fit_prior': [True, False],\n",
    "}\n",
    "mn_clf = Pipeline([\n",
    "    ('vect', CountVectorizer(stop_words=final_stop_words, )),\n",
    "    ('tfidf', TfidfTransformer()),\n",
    "    ('mnb', MultinomialNB())\n",
    "    ])\n",
    "mn = GridSearchCV(mn_clf, mnbparameters, cv=5, n_jobs=-1, scoring='precision_micro')\n"
   ]
  },
  {
   "cell_type": "code",
   "execution_count": 248,
   "metadata": {},
   "outputs": [],
   "source": [
    "sgd = sgd.fit(X_train,y_train_cat)"
   ]
  },
  {
   "cell_type": "code",
   "execution_count": null,
   "metadata": {},
   "outputs": [],
   "source": [
    "rf = rf.fit(X_train,y_train_cat)"
   ]
  },
  {
   "cell_type": "code",
   "execution_count": null,
   "metadata": {},
   "outputs": [],
   "source": [
    "mn = mn.fit(X_train, y_train_cat)"
   ]
  },
  {
   "cell_type": "code",
   "execution_count": null,
   "metadata": {},
   "outputs": [],
   "source": [
    "sg = sgd.best_estimator_\n",
    "rf = rf.best_estimator_\n",
    "mn = mn.best_estimator_"
   ]
  },
  {
   "cell_type": "code",
   "execution_count": null,
   "metadata": {},
   "outputs": [],
   "source": [
    "sns.set_context(\"poster\", font_scale=1.3)\n",
    "#fig, ax = plt.subplots(figsize=(15, 8))\n",
    "all_words = [word for tokens in art_words for word in words]\n",
    "title_lengths = [len(tokens) for tokens in art_words]\n",
    "VOCAB = sorted(list(set(all_words)))\n",
    "print(\"%s words total, with a vocabulary size of %s\" % (len(all_words), len(VOCAB)))\n",
    "print(\"Max title length is %s\" % max(title_lengths))\n",
    "fig = plt.figure(figsize = (15,8))\n",
    "plt.xlabel('Headline length')\n",
    "plt.ylabel('Number of headlines')\n",
    "plt.hist(title_lengths);\n",
    "plt.savefig('dist_headlines.png')"
   ]
  },
  {
   "cell_type": "code",
   "execution_count": null,
   "metadata": {},
   "outputs": [],
   "source": [
    "title_length = [len(x) for x in new_words]\n",
    "len(title_length)"
   ]
  },
  {
   "cell_type": "code",
   "execution_count": null,
   "metadata": {},
   "outputs": [],
   "source": [
    "mbcv = model_selection.cross_val_score(mb,X_train,y_train_cat,\n",
    "                                        scoring = 'precision_micro',cv = 10\n",
    "                                         )\n",
    "\n",
    "rfcv = model_selection.cross_val_score(rf,X_train,y_train_cat,\n",
    "                                        scoring = 'precision_micro', cv = 10\n",
    "                                         )\n",
    "\n",
    "svcv = model_selection.cross_val_score(sgd,X_train,y_train_cat,\n",
    "                                        scoring = 'precision_micro', cv = 10\n",
    "                                         )\n",
    "\n",
    "results = [mbcv, rfcv, svcv]\n",
    "\n",
    "\n",
    "plt.style.use('ggplot')\n",
    "\n",
    "sns.set_context(\"poster\", font_scale=1.3)\n",
    "fig = plt.figure(figsize=(30,20))\n",
    "fig.suptitle('Category Classification Comparison')\n",
    "ax = fig.add_subplot(111)\n",
    "box = plt.boxplot(results, patch_artist=True)\n",
    "plt.xlabel('Model')\n",
    "plt.ylabel('Precision  Score')\n",
    "ax.set_xticklabels(['NB', 'RF', 'SV'])\n",
    "colors = ['cyan', 'lightblue', 'tan']\n",
    "for patch, color in zip(box['boxes'], colors):\n",
    "    patch.set_facecolor(color)\n",
    "plt.savefig('class_comparison_cat.png')\n",
    "plt.show()"
   ]
  },
  {
   "cell_type": "markdown",
   "metadata": {},
   "source": [
    "# Hyper-Parameter tuning/model selection-Sent\n"
   ]
  },
  {
   "cell_type": "code",
   "execution_count": null,
   "metadata": {},
   "outputs": [],
   "source": [
    "\n",
    "list_labels = sent.tolist()\n",
    "\n",
    "\n",
    "X_train, X_test, y_train_sent, y_test_sent = train_test_split(df.newtitle, list_labels, \n",
    "                                                    test_size=0.2,\n",
    "                                                    random_state=7274)\n",
    "\n"
   ]
  },
  {
   "cell_type": "code",
   "execution_count": null,
   "metadata": {},
   "outputs": [],
   "source": [
    "ssgparameters = {\n",
    "     'tfidf__use_idf': (True, False),\n",
    "     'clf__penalty':('l2', 'l1', 'elasticnet'),\n",
    "     'vect__ngram_range': [(1, 1), (1, 2), (1,3), (1,4), (1,5)],\n",
    "     'vect__max_features':(None, 5900, 5000, 4500, 4000, 3500),\n",
    "     'clf__alpha': (1, 1e-2, 1e-3, 1e-4),\n",
    "     'clf__max_iter':(400, 500, 800, 900, 1000, 1200, 1500)\n",
    "}\n",
    "ssgd_clf = Pipeline([\n",
    "    ('vect', CountVectorizer(stop_words=final_stop_words )),\n",
    "    ('tfidf', TfidfTransformer()),\n",
    "    ('clf', SGDClassifier(random_state=32))\n",
    "    ])\n",
    "ssgd = GridSearchCV(ssgd_clf, sgparameters,verbose = 1, cv=5, n_jobs=-1, scoring='precision_micro')\n"
   ]
  },
  {
   "cell_type": "code",
   "execution_count": null,
   "metadata": {},
   "outputs": [],
   "source": [
    "srfparameters = {\n",
    "     'tfidf__use_idf': (True, False),\n",
    "     'clf__n_estimators': (530, 540, 550, 560, 570, 600, 610, 620, 630),\n",
    "     'clf__min_samples_split':(1, 2, 3),\n",
    "     'clf__min_samples_leaf':(2,3,4,5,6),\n",
    "     'vect__ngram_range': [(1, 1), (1, 2), (1,3), (1,4), (1,5)],\n",
    "     'vect__max_features':(None, 5900, 5000, 4500, 4000, 3500),\n",
    "     'clf__max_features': ('auto', 'sqrt'),\n",
    "     'clf__max_depth':(18,19,20,21,22,23,24),\n",
    "     'clf__bootstrap':(False, True)\n",
    "}\n",
    "srf_clf = Pipeline([\n",
    "    ('vect', CountVectorizer(stop_words=final_stop_words )),\n",
    "    ('tfidf', TfidfTransformer()),\n",
    "    ('clf', RandomForestClassifier(random_state=32))\n",
    "    ])\n",
    "srf = GridSearchCV(srf_clf, srfparameters, verbose = 1, cv=5, n_jobs=-1, scoring='precision_micro')\n"
   ]
  },
  {
   "cell_type": "code",
   "execution_count": null,
   "metadata": {},
   "outputs": [],
   "source": [
    "\n",
    "smnbparameters = {\n",
    "     'tfidf__use_idf': (True, False),\n",
    "     'vect__ngram_range': [(1, 1), (1, 2), (1,3), (1,4), (1,5)],\n",
    "     'vect__max_features':(None, 5900, 5000, 4500, 4000, 3500),\n",
    "     'mnb__alpha': np.linspace(0.5, 1.5, 6),\n",
    "     'mnb__fit_prior': [True, False],\n",
    "}\n",
    "smn_clf = Pipeline([\n",
    "    ('vect', CountVectorizer(stop_words=final_stop_words )),\n",
    "    ('tfidf', TfidfTransformer()),\n",
    "    ('mnb', MultinomialNB())\n",
    "    ])\n",
    "smn = GridSearchCV(smn_clf, smnbparameters,verbose = 1, cv=5, n_jobs=-1, scoring='precision_micro')\n"
   ]
  },
  {
   "cell_type": "code",
   "execution_count": null,
   "metadata": {},
   "outputs": [],
   "source": [
    "ssgd = ssgd.fit(X_train,y_train_sent)"
   ]
  },
  {
   "cell_type": "code",
   "execution_count": null,
   "metadata": {},
   "outputs": [],
   "source": [
    "srf = srf.fit(X_train,y_train_sent)"
   ]
  },
  {
   "cell_type": "code",
   "execution_count": null,
   "metadata": {},
   "outputs": [],
   "source": [
    "smn = smn.fit(X_train, y_train_sent)"
   ]
  },
  {
   "cell_type": "code",
   "execution_count": null,
   "metadata": {},
   "outputs": [],
   "source": [
    "ssg = sgd.best_estimator_\n",
    "srf = srf.best_estimator_\n",
    "smn = smn.best_estimator_"
   ]
  },
  {
   "cell_type": "code",
   "execution_count": null,
   "metadata": {},
   "outputs": [],
   "source": []
  },
  {
   "cell_type": "code",
   "execution_count": null,
   "metadata": {},
   "outputs": [],
   "source": []
  },
  {
   "cell_type": "code",
   "execution_count": null,
   "metadata": {},
   "outputs": [],
   "source": []
  },
  {
   "cell_type": "code",
   "execution_count": null,
   "metadata": {},
   "outputs": [],
   "source": []
  },
  {
   "cell_type": "code",
   "execution_count": null,
   "metadata": {},
   "outputs": [],
   "source": []
  },
  {
   "cell_type": "code",
   "execution_count": null,
   "metadata": {},
   "outputs": [],
   "source": []
  },
  {
   "cell_type": "code",
   "execution_count": null,
   "metadata": {},
   "outputs": [],
   "source": []
  },
  {
   "cell_type": "code",
   "execution_count": null,
   "metadata": {},
   "outputs": [],
   "source": []
  },
  {
   "cell_type": "code",
   "execution_count": null,
   "metadata": {},
   "outputs": [],
   "source": []
  },
  {
   "cell_type": "code",
   "execution_count": null,
   "metadata": {},
   "outputs": [],
   "source": []
  },
  {
   "cell_type": "code",
   "execution_count": null,
   "metadata": {},
   "outputs": [],
   "source": []
  },
  {
   "cell_type": "code",
   "execution_count": null,
   "metadata": {},
   "outputs": [],
   "source": []
  },
  {
   "cell_type": "code",
   "execution_count": null,
   "metadata": {},
   "outputs": [],
   "source": []
  },
  {
   "cell_type": "code",
   "execution_count": null,
   "metadata": {},
   "outputs": [],
   "source": []
  },
  {
   "cell_type": "code",
   "execution_count": null,
   "metadata": {},
   "outputs": [],
   "source": []
  },
  {
   "cell_type": "code",
   "execution_count": null,
   "metadata": {},
   "outputs": [],
   "source": []
  },
  {
   "cell_type": "code",
   "execution_count": null,
   "metadata": {},
   "outputs": [],
   "source": []
  },
  {
   "cell_type": "code",
   "execution_count": null,
   "metadata": {},
   "outputs": [],
   "source": []
  },
  {
   "cell_type": "code",
   "execution_count": null,
   "metadata": {},
   "outputs": [],
   "source": []
  },
  {
   "cell_type": "code",
   "execution_count": null,
   "metadata": {},
   "outputs": [],
   "source": []
  },
  {
   "cell_type": "code",
   "execution_count": null,
   "metadata": {},
   "outputs": [],
   "source": []
  },
  {
   "cell_type": "code",
   "execution_count": null,
   "metadata": {},
   "outputs": [],
   "source": []
  },
  {
   "cell_type": "markdown",
   "metadata": {},
   "source": [
    "# TFIDF Category"
   ]
  },
  {
   "cell_type": "code",
   "execution_count": 137,
   "metadata": {},
   "outputs": [],
   "source": [
    "\n",
    "#Generating Train_test_split and creating list of labels\n",
    "\n",
    "\n",
    "newcorpus = art_words.apply(lambda x: converttostr(x, seperator= ' '))\n",
    "list_corpus = newcorpus.tolist() \n",
    "\n",
    "label1=df['cat']\n",
    "label2 =  [0 if x == 'biz' else 1 if x == 'gen' else 2 for x in label1]\n",
    "\n",
    "\n",
    "\n",
    "\n",
    "X_train, X_test, y_train_cat, y_test_cat = train_test_split(list_corpus, label2, \n",
    "                                                    test_size=0.2,\n",
    "                                                    random_state=7274)\n",
    "\n"
   ]
  },
  {
   "cell_type": "code",
   "execution_count": 26,
   "metadata": {},
   "outputs": [
    {
     "ename": "NameError",
     "evalue": "name 'X_test' is not defined",
     "output_type": "error",
     "traceback": [
      "\u001b[1;31m---------------------------------------------------------------------------\u001b[0m",
      "\u001b[1;31mNameError\u001b[0m                                 Traceback (most recent call last)",
      "\u001b[1;32m<ipython-input-26-0c1cdefd54ea>\u001b[0m in \u001b[0;36m<module>\u001b[1;34m\u001b[0m\n\u001b[1;32m----> 1\u001b[1;33m \u001b[0mX_test\u001b[0m\u001b[1;33m\u001b[0m\u001b[1;33m\u001b[0m\u001b[0m\n\u001b[0m",
      "\u001b[1;31mNameError\u001b[0m: name 'X_test' is not defined"
     ]
    }
   ],
   "source": [
    "X_train, tfidf_vectorizer = tfidf(X_train)\n",
    "X_test = tfidf_vectorizer.transform(X_test)\n",
    "X_test\n"
   ]
  },
  {
   "cell_type": "markdown",
   "metadata": {},
   "source": []
  },
  {
   "cell_type": "code",
   "execution_count": null,
   "metadata": {},
   "outputs": [],
   "source": []
  },
  {
   "cell_type": "code",
   "execution_count": 11,
   "metadata": {
    "collapsed": true
   },
   "outputs": [
    {
     "name": "stdout",
     "output_type": "stream",
     "text": [
      "Fitting 3 folds for each of 100 candidates, totalling 300 fits\n"
     ]
    },
    {
     "name": "stderr",
     "output_type": "stream",
     "text": [
      "[Parallel(n_jobs=-1)]: Using backend LokyBackend with 12 concurrent workers.\n",
      "[Parallel(n_jobs=-1)]: Done  17 tasks      | elapsed:   22.3s\n",
      "[Parallel(n_jobs=-1)]: Done 138 tasks      | elapsed:  2.6min\n",
      "[Parallel(n_jobs=-1)]: Done 300 out of 300 | elapsed:  5.3min finished\n"
     ]
    },
    {
     "data": {
      "text/plain": [
       "RandomizedSearchCV(cv=3, estimator=RandomForestClassifier(), n_iter=100,\n",
       "                   n_jobs=-1,\n",
       "                   param_distributions={'bootstrap': [True, False],\n",
       "                                        'max_depth': [10, 21, 32, 44, 55, 67,\n",
       "                                                      78, 90, None],\n",
       "                                        'max_features': ['auto', 'sqrt'],\n",
       "                                        'min_samples_leaf': [1, 2, 4],\n",
       "                                        'min_samples_split': [2, 5, 10],\n",
       "                                        'n_estimators': [200, 400, 600, 800,\n",
       "                                                         1000]},\n",
       "                   random_state=1984, scoring='precision_micro', verbose=2)"
      ]
     },
     "execution_count": 11,
     "metadata": {},
     "output_type": "execute_result"
    }
   ],
   "source": [
    "# Random forest Randomized Search CV\n",
    "from sklearn.model_selection import RandomizedSearchCV\n",
    "#n_estimators = max trees\n",
    "n_estimators = [int(x) for x in np.linspace(start = 200, stop = 1000, num = 5)]\n",
    "#Max_features = max # of features considered at each split\n",
    "max_features = ['auto', 'sqrt']\n",
    "#max_depth = max #of levels in each decision tree\n",
    "max_depth = [int(x) for x in np.linspace(10, 90, num = 8)]\n",
    "max_depth.append(None)\n",
    "#Min_samples_split = min number of data points placed in a ndoe before node is split\n",
    "min_samples_split = [2, 5, 10]\n",
    "#min_samples_leaf= min number of data ponits allowed in a leaf node\n",
    "min_samples_leaf = [1, 2, 4]\n",
    "#bootstrap = method for sampling data points (with or without replacement)\n",
    "bootstrap = [True,False]\n",
    "\n",
    "random_grid = {'n_estimators' : n_estimators,\n",
    "              'max_features': max_features,\n",
    "              'max_depth': max_depth,\n",
    "              'min_samples_split': min_samples_split,\n",
    "              'min_samples_leaf': min_samples_leaf,\n",
    "              'bootstrap': bootstrap}\n",
    "\n",
    "#Use random grid to search for best parameters\n",
    "rf_tfidf = RandomForestClassifier()\n",
    "\n",
    "\n",
    "#Random search of parameters using 3 fold cross validation, seaerch across 100 different combinations\n",
    "#Use all cores\n",
    "\n",
    "rf_tfidf = RandomizedSearchCV(estimator = rf_tfidf, param_distributions= random_grid,\n",
    "                              n_iter=100, cv = 3, verbose = 2, random_state=1984,\n",
    "                              n_jobs = -1 , scoring = 'precision_micro' )\n",
    "rf_tfidf.fit(X_train, y_train_cat)\n"
   ]
  },
  {
   "cell_type": "code",
   "execution_count": 16,
   "metadata": {},
   "outputs": [],
   "source": [
    "#rf_tfidf.best_params_\n",
    "param_grid = {'n_estimators': [550, 575, 600, 625, 650],\n",
    " 'min_samples_split': [1,2,3],\n",
    " 'min_samples_leaf': [3,4,5],\n",
    " 'max_features': ['auto'],\n",
    " 'max_depth': [18,19,20,21,22,23,24],\n",
    " 'bootstrap': [False]}"
   ]
  },
  {
   "cell_type": "code",
   "execution_count": 17,
   "metadata": {},
   "outputs": [],
   "source": [
    "#Grid search RF \n",
    "from sklearn.model_selection import GridSearchCV\n",
    "\n",
    "# Create a based model\n",
    "rf_tfidf = RandomForestClassifier()\n",
    "# Instantiate the grid search model\n",
    "rf_tfidf_grid = GridSearchCV(estimator = rf_tfidf, param_grid = param_grid, \n",
    "                          cv = 3, n_jobs = -1, verbose = 2 , scoring = 'precision_micro')"
   ]
  },
  {
   "cell_type": "code",
   "execution_count": 18,
   "metadata": {
    "collapsed": true
   },
   "outputs": [
    {
     "name": "stdout",
     "output_type": "stream",
     "text": [
      "Fitting 3 folds for each of 315 candidates, totalling 945 fits\n"
     ]
    },
    {
     "name": "stderr",
     "output_type": "stream",
     "text": [
      "[Parallel(n_jobs=-1)]: Using backend LokyBackend with 12 concurrent workers.\n",
      "[Parallel(n_jobs=-1)]: Done  17 tasks      | elapsed:    8.0s\n",
      "[Parallel(n_jobs=-1)]: Done 138 tasks      | elapsed:   47.2s\n",
      "[Parallel(n_jobs=-1)]: Done 341 tasks      | elapsed:  2.2min\n",
      "[Parallel(n_jobs=-1)]: Done 624 tasks      | elapsed:  4.2min\n",
      "[Parallel(n_jobs=-1)]: Done 945 out of 945 | elapsed:  6.6min finished\n"
     ]
    },
    {
     "data": {
      "text/plain": [
       "GridSearchCV(cv=3, estimator=RandomForestClassifier(), n_jobs=-1,\n",
       "             param_grid={'bootstrap': [False],\n",
       "                         'max_depth': [18, 19, 20, 21, 22, 23, 24],\n",
       "                         'max_features': ['auto'],\n",
       "                         'min_samples_leaf': [3, 4, 5],\n",
       "                         'min_samples_split': [1, 2, 3],\n",
       "                         'n_estimators': [550, 575, 600, 625, 650]},\n",
       "             scoring='precision_micro', verbose=2)"
      ]
     },
     "execution_count": 18,
     "metadata": {},
     "output_type": "execute_result"
    }
   ],
   "source": [
    "rf_tfidf_grid.fit(X_train_tfidf, y_train)"
   ]
  },
  {
   "cell_type": "code",
   "execution_count": 22,
   "metadata": {},
   "outputs": [],
   "source": [
    "rf_tfidf= rf_tfidf_grid.best_estimator_\n",
    "#rf_tfidf.get_params()\n",
    "#'bootstrap': False,\n",
    "#  'ccp_alpha': 0.0,\n",
    "#  'class_weight': None,\n",
    "#  'criterion': 'gini',\n",
    "#  'max_depth': 18,\n",
    "#  'max_features': 'auto',\n",
    "#  'max_leaf_nodes': None,\n",
    "#  'max_samples': None,\n",
    "#  'min_impurity_decrease': 0.0,\n",
    "#  'min_impurity_split': None,\n",
    "#  'min_samples_leaf': 3,\n",
    "#  'min_samples_split': 2,\n",
    "#  'min_weight_fraction_leaf': 0.0,\n",
    "#  'n_estimators': 550,\n",
    "#  'n_jobs': None,\n",
    "#  'oob_score': False,\n",
    "#  'random_state': None,\n",
    "#  'verbose': 0,\n",
    "#  'warm_start': False}"
   ]
  },
  {
   "cell_type": "code",
   "execution_count": 23,
   "metadata": {},
   "outputs": [],
   "source": [
    "# Logistic regression\n",
    "\n",
    "lg = LogisticRegression()\n",
    "\n",
    "penalties = ['l1', 'l2', 'elasticnet']\n",
    "C_range = [0.001, 0.01, 0.1, 1, 10, 100]\n",
    "iters = [int(x) for x in np.linspace(start = 200, stop = 1000, num = 5)]\n",
    "random_grid = {'penalty' : penalties,\n",
    "              'C': C_range,\n",
    "              'max_iter': iters\n",
    "              }\n"
   ]
  },
  {
   "cell_type": "code",
   "execution_count": 24,
   "metadata": {
    "collapsed": true
   },
   "outputs": [
    {
     "name": "stderr",
     "output_type": "stream",
     "text": [
      "C:\\Users\\camer\\anaconda3\\envs\\insight\\lib\\site-packages\\sklearn\\model_selection\\_search.py:278: UserWarning: The total space of parameters 90 is smaller than n_iter=100. Running 90 iterations. For exhaustive searches, use GridSearchCV.\n",
      "  warnings.warn(\n",
      "[Parallel(n_jobs=-1)]: Using backend LokyBackend with 12 concurrent workers.\n",
      "[Parallel(n_jobs=-1)]: Done  19 tasks      | elapsed:    0.0s\n"
     ]
    },
    {
     "name": "stdout",
     "output_type": "stream",
     "text": [
      "Fitting 3 folds for each of 90 candidates, totalling 270 fits\n"
     ]
    },
    {
     "name": "stderr",
     "output_type": "stream",
     "text": [
      "[Parallel(n_jobs=-1)]: Done 270 out of 270 | elapsed:    3.6s finished\n"
     ]
    },
    {
     "data": {
      "text/plain": [
       "RandomizedSearchCV(cv=3, estimator=LogisticRegression(), n_iter=100, n_jobs=-1,\n",
       "                   param_distributions={'C': [0.001, 0.01, 0.1, 1, 10, 100],\n",
       "                                        'max_iter': [200, 400, 600, 800, 1000],\n",
       "                                        'penalty': ['l1', 'l2', 'elasticnet']},\n",
       "                   random_state=1984, scoring='precision_micro', verbose=2)"
      ]
     },
     "execution_count": 24,
     "metadata": {},
     "output_type": "execute_result"
    }
   ],
   "source": [
    "lgrandomized = RandomizedSearchCV(estimator = lg, param_distributions= random_grid,\n",
    "                              n_iter=100, cv = 3, verbose = 2, random_state=1984,\n",
    "                              n_jobs = -1 , scoring = 'precision_micro' )\n",
    "lgrandomized.fit(X_train, y_train_cat)"
   ]
  },
  {
   "cell_type": "code",
   "execution_count": 29,
   "metadata": {},
   "outputs": [],
   "source": [
    "lgrandomized.best_params_\n",
    "param_grid = {'penalty': ['l2'], \n",
    "              'max_iter': [100, 150, 200, 250, 300],\n",
    "              'C': [0.001, 0.002, 0.003]}\n"
   ]
  },
  {
   "cell_type": "code",
   "execution_count": 30,
   "metadata": {},
   "outputs": [],
   "source": [
    "from sklearn.model_selection import GridSearchCV\n",
    "\n",
    "# Create a based model\n",
    "lg_tfidf = LogisticRegression()\n",
    "# Instantiate the grid search model\n",
    "lg_tfidf_grid = GridSearchCV(estimator = lg_tfidf, param_grid = param_grid, \n",
    "                          cv = 3, n_jobs = -1, verbose = 2 , scoring = 'precision_micro')"
   ]
  },
  {
   "cell_type": "code",
   "execution_count": 31,
   "metadata": {
    "collapsed": true
   },
   "outputs": [
    {
     "name": "stdout",
     "output_type": "stream",
     "text": [
      "Fitting 3 folds for each of 15 candidates, totalling 45 fits\n"
     ]
    },
    {
     "name": "stderr",
     "output_type": "stream",
     "text": [
      "[Parallel(n_jobs=-1)]: Using backend LokyBackend with 12 concurrent workers.\n",
      "[Parallel(n_jobs=-1)]: Done  17 tasks      | elapsed:    0.3s\n",
      "[Parallel(n_jobs=-1)]: Done  45 out of  45 | elapsed:    0.6s remaining:    0.0s\n",
      "[Parallel(n_jobs=-1)]: Done  45 out of  45 | elapsed:    0.6s finished\n"
     ]
    },
    {
     "data": {
      "text/plain": [
       "GridSearchCV(cv=3, estimator=LogisticRegression(), n_jobs=-1,\n",
       "             param_grid={'C': [0.001, 0.002, 0.003],\n",
       "                         'max_iter': [100, 150, 200, 250, 300],\n",
       "                         'penalty': ['l2']},\n",
       "             scoring='precision_micro', verbose=2)"
      ]
     },
     "execution_count": 31,
     "metadata": {},
     "output_type": "execute_result"
    }
   ],
   "source": [
    "lg_tfidf_grid.fit(X_train, y_train_cat)"
   ]
  },
  {
   "cell_type": "code",
   "execution_count": 33,
   "metadata": {},
   "outputs": [],
   "source": [
    "lg_tfidf = lg_tfidf_grid.best_estimator_\n",
    "#lg_tfidf.get_params()\n",
    "# {'C': 0.001,\n",
    "#  'class_weight': None,\n",
    "#  'dual': False,\n",
    "#  'fit_intercept': True,\n",
    "#  'intercept_scaling': 1,\n",
    "#  'l1_ratio': None,\n",
    "#  'max_iter': 100,\n",
    "#  'multi_class': 'auto',\n",
    "#  'n_jobs': None,\n",
    "#  'penalty': 'l2',\n",
    "#  'random_state': None,\n",
    "#  'solver': 'lbfgs',\n",
    "#  'tol': 0.0001,\n",
    "#  'verbose': 0,\n",
    "#  'warm_start': False}\n",
    "\n"
   ]
  },
  {
   "cell_type": "code",
   "execution_count": 34,
   "metadata": {
    "collapsed": true
   },
   "outputs": [
    {
     "name": "stderr",
     "output_type": "stream",
     "text": [
      "C:\\Users\\camer\\anaconda3\\envs\\insight\\lib\\site-packages\\sklearn\\dummy.py:131: FutureWarning: The default value of strategy will change from stratified to prior in 0.24.\n",
      "  warnings.warn(\"The default value of strategy will change from \"\n"
     ]
    },
    {
     "data": {
      "text/plain": [
       "DummyClassifier(random_state=231)"
      ]
     },
     "execution_count": 34,
     "metadata": {},
     "output_type": "execute_result"
    }
   ],
   "source": [
    "#Dummy classifier\n",
    "dummy_mf = DummyClassifier(strategy=\"most_frequent\", random_state=231)\n",
    "dummy_mf.fit(X_train, y_train_cat)\n",
    "dummy = DummyClassifier(random_state=231)\n",
    "dummy.fit(X_train, y_train_cat)"
   ]
  },
  {
   "cell_type": "code",
   "execution_count": 116,
   "metadata": {},
   "outputs": [
    {
     "data": {
      "text/plain": [
       "array([0.94323144, 0.94323144, 0.93886463, 0.93886463, 0.94298246,\n",
       "       0.94298246, 0.94298246, 0.94298246, 0.94298246, 0.94298246])"
      ]
     },
     "execution_count": 116,
     "metadata": {},
     "output_type": "execute_result"
    }
   ],
   "source": [
    "#Cross evaluation compare\n",
    "from sklearn import model_selection\n",
    "logtfcv = model_selection.cross_val_score(lg_tfidf,X_train,y_train_cat,\n",
    "                                        scoring = 'precision_micro',cv=10\n",
    "                                         )\n",
    "logtfcv\n",
    "\n",
    "rftfcv = model_selection.cross_val_score(rf_tfidf,X_train,y_train_cat,\n",
    "                                        scoring = 'precision_micro', cv=10\n",
    "                                         )\n",
    "rftfcv"
   ]
  },
  {
   "cell_type": "code",
   "execution_count": 104,
   "metadata": {},
   "outputs": [
    {
     "name": "stderr",
     "output_type": "stream",
     "text": [
      "C:\\Users\\camer\\anaconda3\\envs\\insight\\lib\\site-packages\\sklearn\\dummy.py:131: FutureWarning: The default value of strategy will change from stratified to prior in 0.24.\n",
      "  warnings.warn(\"The default value of strategy will change from \"\n"
     ]
    },
    {
     "data": {
      "text/plain": [
       "array([0.90393013, 0.89956332, 0.89519651, 0.89956332, 0.89912281,\n",
       "       0.89912281, 0.89912281, 0.89912281, 0.9122807 , 0.89912281])"
      ]
     },
     "execution_count": 104,
     "metadata": {},
     "output_type": "execute_result"
    }
   ],
   "source": [
    "#dumm cross eval\n",
    "dummymfcv = model_selection.cross_val_score(dummy_mf,X_train,y_train_cat,\n",
    "                                        scoring = 'precision_micro',cv=10\n",
    "                                         )\n",
    "dummymfcv\n",
    "\n",
    "dummycv = model_selection.cross_val_score(dummy,X_train,y_train_cat,\n",
    "                                        scoring = 'precision_micro', cv=10\n",
    "                                         )\n",
    "dummycv"
   ]
  },
  {
   "cell_type": "markdown",
   "metadata": {
    "heading_collapsed": true
   },
   "source": [
    "# NN"
   ]
  },
  {
   "cell_type": "code",
   "execution_count": 64,
   "metadata": {
    "collapsed": true,
    "hidden": true
   },
   "outputs": [
    {
     "data": {
      "text/plain": [
       "(                                                      x\n",
       " 0     trump launches defensive twitter spree as amer...\n",
       " 1     trudeau attends ant racism rally and takes a knee\n",
       " 2     dc mayor inaugurates black lives matter plaza ...\n",
       " 3     teaching for black lives a handbook to fight a...\n",
       " 4     how a call to police over a twenty bill unleas...\n",
       " ...                                                 ...\n",
       " 2279  carroll foy formally launches bid for virginia...\n",
       " 2280  joe biden needs black voters to win the presid...\n",
       " 2281  news24 com donald trump slams drew brees apolo...\n",
       " 2282  news24 com watch trump sparks controversy sayi...\n",
       " 2283  news24 com bayern munich show support for blac...\n",
       " \n",
       " [2284 rows x 1 columns],\n",
       " 0       \"dangerous \" around world police chokeholds sc...\n",
       " 1       \"its been hectic\" americans struggle as unempl...\n",
       " 2       \"its been hectic\" americans struggle as unempl...\n",
       " 3       \"people just dont want to be killed period \" a...\n",
       " 4       \"the last dance\" episodes nine ten recap and s...\n",
       "                               ...                        \n",
       " 2851    your pain is my pain global anti racism protes...\n",
       " 2852    zimbabwe summons us ambassador over national s...\n",
       " 2853    zimbabwe summons us envoy over george floyd pr...\n",
       " 2854    zuckerberg s cheap labor group defend black lives\n",
       " 2855    zuckerberg facebook leaving up trumps shooting...\n",
       " Name: x, Length: 2856, dtype: object)"
      ]
     },
     "execution_count": 64,
     "metadata": {},
     "output_type": "execute_result"
    }
   ],
   "source": [
    "X_train, X_test, y_train_cat, y_test_cat = train_test_split(list_corpus, label2, \n",
    "                                                    test_size=0.2,\n",
    "                                                    random_state=7274)\n",
    "X_traindf = pd.DataFrame({'x': X_train})\n",
    "\n",
    "X_traindf, df.x "
   ]
  },
  {
   "cell_type": "code",
   "execution_count": 65,
   "metadata": {
    "collapsed": true,
    "hidden": true
   },
   "outputs": [
    {
     "name": "stderr",
     "output_type": "stream",
     "text": [
      "INFO:transformers.tokenization_utils:loading file https://s3.amazonaws.com/models.huggingface.co/bert/bert-base-uncased-vocab.txt from cache at C:\\Users\\camer/.cache\\torch\\transformers\\26bc1ad6c0ac742e9b52263248f6d0f00068293b33709fae12320c0e35ccfbbb.542ce4285a40d23a559526243235df47c5f75c197f04f37d1a0c124c32c9a084\n",
      "INFO:transformers.configuration_utils:loading configuration file https://s3.amazonaws.com/models.huggingface.co/bert/distilbert-base-uncased-config.json from cache at C:\\Users\\camer/.cache\\torch\\transformers\\a41e817d5c0743e29e86ff85edc8c257e61bc8d88e4271bb1b243b6e7614c633.8949e27aafafa845a18d98a0e3a88bc2d248bbc32a1b75947366664658f23b1c\n",
      "INFO:transformers.configuration_utils:Model config DistilBertConfig {\n",
      "  \"activation\": \"gelu\",\n",
      "  \"architectures\": [\n",
      "    \"DistilBertForMaskedLM\"\n",
      "  ],\n",
      "  \"attention_dropout\": 0.1,\n",
      "  \"dim\": 768,\n",
      "  \"dropout\": 0.1,\n",
      "  \"hidden_dim\": 3072,\n",
      "  \"initializer_range\": 0.02,\n",
      "  \"max_position_embeddings\": 512,\n",
      "  \"model_type\": \"distilbert\",\n",
      "  \"n_heads\": 12,\n",
      "  \"n_layers\": 6,\n",
      "  \"pad_token_id\": 0,\n",
      "  \"qa_dropout\": 0.1,\n",
      "  \"seq_classif_dropout\": 0.2,\n",
      "  \"sinusoidal_pos_embds\": false,\n",
      "  \"tie_weights_\": true,\n",
      "  \"vocab_size\": 30522\n",
      "}\n",
      "\n",
      "INFO:transformers.modeling_utils:loading weights file https://cdn.huggingface.co/distilbert-base-uncased-pytorch_model.bin from cache at C:\\Users\\camer/.cache\\torch\\transformers\\ae9df7a8d658c4f3e1917a471a8a21cf678fa1d4cb91e7702dfe0598dbdcf354.c2015533705b9dff680ae707e205a35e2860e8d148b45d35085419d74fe57ac5\n",
      "INFO:transformers.tokenization_utils:loading file https://s3.amazonaws.com/models.huggingface.co/bert/bert-base-uncased-vocab.txt from cache at C:\\Users\\camer/.cache\\torch\\transformers\\26bc1ad6c0ac742e9b52263248f6d0f00068293b33709fae12320c0e35ccfbbb.542ce4285a40d23a559526243235df47c5f75c197f04f37d1a0c124c32c9a084\n",
      "INFO:transformers.configuration_utils:loading configuration file https://s3.amazonaws.com/models.huggingface.co/bert/distilbert-base-uncased-config.json from cache at C:\\Users\\camer/.cache\\torch\\transformers\\a41e817d5c0743e29e86ff85edc8c257e61bc8d88e4271bb1b243b6e7614c633.8949e27aafafa845a18d98a0e3a88bc2d248bbc32a1b75947366664658f23b1c\n",
      "INFO:transformers.configuration_utils:Model config DistilBertConfig {\n",
      "  \"activation\": \"gelu\",\n",
      "  \"architectures\": [\n",
      "    \"DistilBertForMaskedLM\"\n",
      "  ],\n",
      "  \"attention_dropout\": 0.1,\n",
      "  \"dim\": 768,\n",
      "  \"dropout\": 0.1,\n",
      "  \"hidden_dim\": 3072,\n",
      "  \"initializer_range\": 0.02,\n",
      "  \"max_position_embeddings\": 512,\n",
      "  \"model_type\": \"distilbert\",\n",
      "  \"n_heads\": 12,\n",
      "  \"n_layers\": 6,\n",
      "  \"pad_token_id\": 0,\n",
      "  \"qa_dropout\": 0.1,\n",
      "  \"seq_classif_dropout\": 0.2,\n",
      "  \"sinusoidal_pos_embds\": false,\n",
      "  \"tie_weights_\": true,\n",
      "  \"vocab_size\": 30522\n",
      "}\n",
      "\n",
      "INFO:transformers.modeling_utils:loading weights file https://cdn.huggingface.co/distilbert-base-uncased-pytorch_model.bin from cache at C:\\Users\\camer/.cache\\torch\\transformers\\ae9df7a8d658c4f3e1917a471a8a21cf678fa1d4cb91e7702dfe0598dbdcf354.c2015533705b9dff680ae707e205a35e2860e8d148b45d35085419d74fe57ac5\n"
     ]
    }
   ],
   "source": [
    "#First trying DistilBERT\n",
    "model_class, tokenizer_class, pretrained_weights = (ppb.DistilBertModel, ppb.DistilBertTokenizer, 'distilbert-base-uncased')\n",
    "\n",
    "## Want BERT instead of distilBERT? Uncomment the following line:\n",
    "#model_class, tokenizer_class, pretrained_weights = (ppb.BertModel, ppb.BertTokenizer, 'bert-base-uncased')\n",
    "\n",
    "# Load pretrained model/tokenizer\n",
    "tokenizer = tokenizer_class.from_pretrained(pretrained_weights)\n",
    "model = model_class.from_pretrained(pretrained_weights)\n",
    "tokenizer = tokenizer_class.from_pretrained(pretrained_weights)\n",
    "model = model_class.from_pretrained(pretrained_weights)\n",
    "tokenized = X_traindf['x'].apply((lambda x: tokenizer.encode(x, add_special_tokens=True)))"
   ]
  },
  {
   "cell_type": "code",
   "execution_count": 66,
   "metadata": {
    "hidden": true
   },
   "outputs": [],
   "source": [
    "max_len = 0\n",
    "for i in tokenized.values:\n",
    "    if len(i) > max_len:\n",
    "        max_len = len(i)\n",
    "\n",
    "padded = np.array([i + [0]*(max_len-len(i)) for i in tokenized.values])"
   ]
  },
  {
   "cell_type": "code",
   "execution_count": 67,
   "metadata": {
    "hidden": true
   },
   "outputs": [],
   "source": [
    "attention_mask = np.where(np.array(padded)!=0,1,0)\n",
    "\n",
    "attention_mask.shape\n",
    "input_ids = torch.tensor(padded)\n",
    "attention_mask = torch.tensor(attention_mask)\n",
    "input_ids = input_ids.clone().detach().to(torch.int64)"
   ]
  },
  {
   "cell_type": "code",
   "execution_count": 68,
   "metadata": {
    "hidden": true
   },
   "outputs": [
    {
     "name": "stdout",
     "output_type": "stream",
     "text": [
      "...\n"
     ]
    }
   ],
   "source": [
    "\n",
    "#input_ids = torch.tensor(input_ids).to(torch.int64)\n",
    "\n",
    "with torch.no_grad():\n",
    "    print('...')\n",
    "    last_hidden_states = model(input_ids, attention_mask=attention_mask)\n",
    "x_train_features = last_hidden_states[0][:,0,:].numpy()\n",
    "\n"
   ]
  },
  {
   "cell_type": "code",
   "execution_count": 72,
   "metadata": {
    "hidden": true
   },
   "outputs": [],
   "source": [
    "#Random forest randomized cv\n",
    "from sklearn.model_selection import RandomizedSearchCV\n",
    "#n_estimators = max trees\n",
    "n_estimators = [int(x) for x in np.linspace(start = 200, stop = 1000, num = 5)]\n",
    "#Max_features = max # of features considered at each split\n",
    "max_features = ['auto', 'sqrt']\n",
    "#max_depth = max #of levels in each decision tree\n",
    "max_depth = [int(x) for x in np.linspace(10, 90, num = 8)]\n",
    "max_depth.append(None)\n",
    "#Min_samples_split = min number of data points placed in a ndoe before node is split\n",
    "min_samples_split = [2, 5, 10]\n",
    "#min_samples_leaf= min number of data ponits allowed in a leaf node\n",
    "min_samples_leaf = [1, 2, 4]\n",
    "#bootstrap = method for sampling data points (with or without replacement)\n",
    "bootstrap = [True,False]\n",
    "\n",
    "random_grid = {'n_estimators' : n_estimators,\n",
    "              'max_features': max_features,\n",
    "              'max_depth': max_depth,\n",
    "              'min_samples_split': min_samples_split,\n",
    "              'min_samples_leaf': min_samples_leaf,\n",
    "              'bootstrap': bootstrap}\n",
    "\n"
   ]
  },
  {
   "cell_type": "code",
   "execution_count": 73,
   "metadata": {
    "hidden": true
   },
   "outputs": [],
   "source": [
    "rf_bert = RandomForestClassifier()\n",
    "\n",
    "\n",
    "#Random search of parameters using 3 fold cross validation, seaerch across 100 different combinations\n",
    "#Use all cores\n",
    "\n",
    "rf_bert = RandomizedSearchCV(estimator = rf_bert, param_distributions= random_grid,\n",
    "                              n_iter=100, cv = 3, verbose = 2, random_state=1984,\n",
    "                              n_jobs = -1 , scoring = 'precision_micro' )\n"
   ]
  },
  {
   "cell_type": "code",
   "execution_count": 74,
   "metadata": {
    "collapsed": true,
    "hidden": true
   },
   "outputs": [
    {
     "name": "stdout",
     "output_type": "stream",
     "text": [
      "Fitting 3 folds for each of 100 candidates, totalling 300 fits\n"
     ]
    },
    {
     "name": "stderr",
     "output_type": "stream",
     "text": [
      "[Parallel(n_jobs=-1)]: Using backend LokyBackend with 12 concurrent workers.\n",
      "[Parallel(n_jobs=-1)]: Done  17 tasks      | elapsed:  2.9min\n",
      "[Parallel(n_jobs=-1)]: Done 138 tasks      | elapsed: 20.3min\n",
      "[Parallel(n_jobs=-1)]: Done 300 out of 300 | elapsed: 40.8min finished\n"
     ]
    },
    {
     "data": {
      "text/plain": [
       "RandomizedSearchCV(cv=3, estimator=RandomForestClassifier(), n_iter=100,\n",
       "                   n_jobs=-1,\n",
       "                   param_distributions={'bootstrap': [True, False],\n",
       "                                        'max_depth': [10, 21, 32, 44, 55, 67,\n",
       "                                                      78, 90, None],\n",
       "                                        'max_features': ['auto', 'sqrt'],\n",
       "                                        'min_samples_leaf': [1, 2, 4],\n",
       "                                        'min_samples_split': [2, 5, 10],\n",
       "                                        'n_estimators': [200, 400, 600, 800,\n",
       "                                                         1000]},\n",
       "                   random_state=1984, scoring='precision_micro', verbose=2)"
      ]
     },
     "execution_count": 74,
     "metadata": {},
     "output_type": "execute_result"
    }
   ],
   "source": [
    "rf_bert.fit(x_train_features, y_train_cat)"
   ]
  },
  {
   "cell_type": "code",
   "execution_count": 76,
   "metadata": {
    "hidden": true
   },
   "outputs": [],
   "source": [
    "param_grid = {'n_estimators': [550, 575, 600, 625, 650],\n",
    " 'min_samples_split': [1, 2, 3],\n",
    " 'min_samples_leaf': [3, 4, 5],\n",
    " 'max_features': ['auto'],\n",
    " 'max_depth': [19,20,21,22,23],\n",
    " 'bootstrap': [False]}\n",
    "#rf_bert.best_params_"
   ]
  },
  {
   "cell_type": "code",
   "execution_count": 77,
   "metadata": {
    "hidden": true
   },
   "outputs": [],
   "source": [
    "# Create a based model\n",
    "rf_bert = RandomForestClassifier()\n",
    "# Instantiate the grid search model\n",
    "rf_bert_grid = GridSearchCV(estimator = rf_bert, param_grid = param_grid, \n",
    "                          cv = 3, n_jobs = -1, verbose = 2 , scoring = 'precision_micro')"
   ]
  },
  {
   "cell_type": "code",
   "execution_count": 78,
   "metadata": {
    "hidden": true
   },
   "outputs": [
    {
     "name": "stdout",
     "output_type": "stream",
     "text": [
      "Fitting 3 folds for each of 225 candidates, totalling 675 fits\n"
     ]
    },
    {
     "name": "stderr",
     "output_type": "stream",
     "text": [
      "[Parallel(n_jobs=-1)]: Using backend LokyBackend with 12 concurrent workers.\n",
      "[Parallel(n_jobs=-1)]: Done  17 tasks      | elapsed:  1.4min\n",
      "[Parallel(n_jobs=-1)]: Done 138 tasks      | elapsed: 10.4min\n",
      "[Parallel(n_jobs=-1)]: Done 341 tasks      | elapsed: 26.9min\n",
      "[Parallel(n_jobs=-1)]: Done 624 tasks      | elapsed: 48.1min\n",
      "[Parallel(n_jobs=-1)]: Done 675 out of 675 | elapsed: 52.1min finished\n"
     ]
    },
    {
     "data": {
      "text/plain": [
       "GridSearchCV(cv=3, estimator=RandomForestClassifier(), n_jobs=-1,\n",
       "             param_grid={'bootstrap': [False],\n",
       "                         'max_depth': [19, 20, 21, 22, 23],\n",
       "                         'max_features': ['auto'],\n",
       "                         'min_samples_leaf': [3, 4, 5],\n",
       "                         'min_samples_split': [1, 2, 3],\n",
       "                         'n_estimators': [550, 575, 600, 625, 650]},\n",
       "             scoring='precision_micro', verbose=2)"
      ]
     },
     "execution_count": 78,
     "metadata": {},
     "output_type": "execute_result"
    }
   ],
   "source": [
    "rf_bert_grid.fit(x_train_features, y_train_cat)"
   ]
  },
  {
   "cell_type": "code",
   "execution_count": 79,
   "metadata": {
    "collapsed": true,
    "hidden": true
   },
   "outputs": [
    {
     "data": {
      "text/plain": [
       "{'bootstrap': False,\n",
       " 'ccp_alpha': 0.0,\n",
       " 'class_weight': None,\n",
       " 'criterion': 'gini',\n",
       " 'max_depth': 19,\n",
       " 'max_features': 'auto',\n",
       " 'max_leaf_nodes': None,\n",
       " 'max_samples': None,\n",
       " 'min_impurity_decrease': 0.0,\n",
       " 'min_impurity_split': None,\n",
       " 'min_samples_leaf': 3,\n",
       " 'min_samples_split': 2,\n",
       " 'min_weight_fraction_leaf': 0.0,\n",
       " 'n_estimators': 550,\n",
       " 'n_jobs': None,\n",
       " 'oob_score': False,\n",
       " 'random_state': None,\n",
       " 'verbose': 0,\n",
       " 'warm_start': False}"
      ]
     },
     "execution_count": 79,
     "metadata": {},
     "output_type": "execute_result"
    }
   ],
   "source": [
    "rf_bert = rf_bert_grid.best_estimator_\n",
    "# rf_bert.get_params()\n",
    "# {'bootstrap': False,\n",
    "#  'ccp_alpha': 0.0,\n",
    "#  'class_weight': None,\n",
    "#  'criterion': 'gini',\n",
    "#  'max_depth': 19,\n",
    "#  'max_features': 'auto',\n",
    "#  'max_leaf_nodes': None,\n",
    "#  'max_samples': None,\n",
    "#  'min_impurity_decrease': 0.0,\n",
    "#  'min_impurity_split': None,\n",
    "#  'min_samples_leaf': 3,\n",
    "#  'min_samples_split': 2,\n",
    "#  'min_weight_fraction_leaf': 0.0,\n",
    "#  'n_estimators': 550,\n",
    "#  'n_jobs': None,\n",
    "#  'oob_score': False,\n",
    "#  'random_state': None,\n",
    "#  'verbose': 0,\n",
    "#  'warm_start': False}"
   ]
  },
  {
   "cell_type": "code",
   "execution_count": 80,
   "metadata": {
    "collapsed": true,
    "hidden": true
   },
   "outputs": [
    {
     "name": "stdout",
     "output_type": "stream",
     "text": [
      "Fitting 3 folds for each of 90 candidates, totalling 270 fits\n"
     ]
    },
    {
     "name": "stderr",
     "output_type": "stream",
     "text": [
      "C:\\Users\\camer\\anaconda3\\envs\\insight\\lib\\site-packages\\sklearn\\model_selection\\_search.py:278: UserWarning: The total space of parameters 90 is smaller than n_iter=100. Running 90 iterations. For exhaustive searches, use GridSearchCV.\n",
      "  warnings.warn(\n",
      "[Parallel(n_jobs=-1)]: Using backend LokyBackend with 12 concurrent workers.\n",
      "[Parallel(n_jobs=-1)]: Done  19 tasks      | elapsed:    0.2s\n",
      "[Parallel(n_jobs=-1)]: Done 208 tasks      | elapsed:   21.4s\n",
      "[Parallel(n_jobs=-1)]: Done 270 out of 270 | elapsed:   45.6s finished\n"
     ]
    },
    {
     "data": {
      "text/plain": [
       "RandomizedSearchCV(cv=3, estimator=LogisticRegression(), n_iter=100, n_jobs=-1,\n",
       "                   param_distributions={'C': [0.001, 0.01, 0.1, 1, 10, 100],\n",
       "                                        'max_iter': [200, 400, 600, 800, 1000],\n",
       "                                        'penalty': ['l1', 'l2', 'elasticnet']},\n",
       "                   random_state=1984, scoring='precision_micro', verbose=2)"
      ]
     },
     "execution_count": 80,
     "metadata": {},
     "output_type": "execute_result"
    }
   ],
   "source": [
    "#Logistic regression\n",
    "\n",
    "lg = LogisticRegression()\n",
    "\n",
    "penalties = ['l1', 'l2', 'elasticnet']\n",
    "C_range = [0.001, 0.01, 0.1, 1, 10, 100]\n",
    "iters = [int(x) for x in np.linspace(start = 200, stop = 1000, num = 5)]\n",
    "random_grid = {'penalty' : penalties,\n",
    "              'C': C_range,\n",
    "              'max_iter': iters\n",
    "              }\n",
    "lgrandomized = RandomizedSearchCV(estimator = lg, param_distributions= random_grid,\n",
    "                              n_iter=100, cv = 3, verbose = 2, random_state=1984,\n",
    "                              n_jobs = -1 , scoring = 'precision_micro' )\n",
    "lgrandomized.fit(x_train_features, y_train_cat)"
   ]
  },
  {
   "cell_type": "code",
   "execution_count": 83,
   "metadata": {
    "hidden": true
   },
   "outputs": [],
   "source": [
    "param_grid = {'penalty': ['l2'], 'max_iter': [125, 150, 175, 200, 225, 250], \n",
    "              'C':[0.002, 0.003, 0.001]}\n",
    "\n",
    "#lgrandomized.best_params_"
   ]
  },
  {
   "cell_type": "code",
   "execution_count": 86,
   "metadata": {
    "hidden": true
   },
   "outputs": [],
   "source": [
    "# Create a based model\n",
    "lg_bert = LogisticRegression()\n",
    "# Instantiate the grid search model\n",
    "lg_bert_grid = GridSearchCV(estimator = lg_bert, param_grid = param_grid, \n",
    "                          cv = 3, n_jobs = -1, verbose = 2 , scoring = 'precision_micro')"
   ]
  },
  {
   "cell_type": "code",
   "execution_count": 87,
   "metadata": {
    "hidden": true
   },
   "outputs": [
    {
     "name": "stdout",
     "output_type": "stream",
     "text": [
      "Fitting 3 folds for each of 18 candidates, totalling 54 fits\n"
     ]
    },
    {
     "name": "stderr",
     "output_type": "stream",
     "text": [
      "[Parallel(n_jobs=-1)]: Using backend LokyBackend with 12 concurrent workers.\n",
      "[Parallel(n_jobs=-1)]: Done  17 tasks      | elapsed:    3.8s\n",
      "[Parallel(n_jobs=-1)]: Done  54 out of  54 | elapsed:    6.3s finished\n"
     ]
    },
    {
     "data": {
      "text/plain": [
       "GridSearchCV(cv=3, estimator=LogisticRegression(), n_jobs=-1,\n",
       "             param_grid={'C': [0.002, 0.003, 0.001],\n",
       "                         'max_iter': [125, 150, 175, 200, 225, 250],\n",
       "                         'penalty': ['l2']},\n",
       "             scoring='precision_micro', verbose=2)"
      ]
     },
     "execution_count": 87,
     "metadata": {},
     "output_type": "execute_result"
    }
   ],
   "source": [
    "lg_bert_grid.fit(x_train_features, y_train_cat)"
   ]
  },
  {
   "cell_type": "code",
   "execution_count": 89,
   "metadata": {
    "collapsed": true,
    "hidden": true
   },
   "outputs": [
    {
     "data": {
      "text/plain": [
       "{'C': 0.002,\n",
       " 'class_weight': None,\n",
       " 'dual': False,\n",
       " 'fit_intercept': True,\n",
       " 'intercept_scaling': 1,\n",
       " 'l1_ratio': None,\n",
       " 'max_iter': 125,\n",
       " 'multi_class': 'auto',\n",
       " 'n_jobs': None,\n",
       " 'penalty': 'l2',\n",
       " 'random_state': None,\n",
       " 'solver': 'lbfgs',\n",
       " 'tol': 0.0001,\n",
       " 'verbose': 0,\n",
       " 'warm_start': False}"
      ]
     },
     "execution_count": 89,
     "metadata": {},
     "output_type": "execute_result"
    }
   ],
   "source": [
    "lg_bert = lg_bert_grid.best_estimator_\n",
    "# lg_bert.get_params()\n",
    "# {'C': 0.002,\n",
    "#  'class_weight': None,\n",
    "#  'dual': False,\n",
    "#  'fit_intercept': True,\n",
    "#  'intercept_scaling': 1,\n",
    "#  'l1_ratio': None,\n",
    "#  'max_iter': 125,\n",
    "#  'multi_class': 'auto',\n",
    "#  'n_jobs': None,\n",
    "#  'penalty': 'l2',\n",
    "#  'random_state': None,\n",
    "#  'solver': 'lbfgs',\n",
    "#  'tol': 0.0001,\n",
    "#  'verbose': 0,\n",
    "#  'warm_start': False}\n",
    "\n"
   ]
  },
  {
   "cell_type": "code",
   "execution_count": 103,
   "metadata": {
    "hidden": true
   },
   "outputs": [
    {
     "data": {
      "text/plain": [
       "array([0.94323144, 0.94323144, 0.93449782, 0.93886463, 0.94298246,\n",
       "       0.94298246, 0.94298246, 0.94298246, 0.94298246, 0.94298246])"
      ]
     },
     "execution_count": 103,
     "metadata": {},
     "output_type": "execute_result"
    }
   ],
   "source": [
    "logbertcv = model_selection.cross_val_score(lg_bert,x_train_features,y_train_cat,\n",
    "                                        scoring = 'precision_micro',cv = 10\n",
    "                                         )\n",
    "logbertcv\n",
    "\n",
    "rfbertcv = model_selection.cross_val_score(rf_bert,x_train_features,y_train_cat,\n",
    "                                        scoring = 'precision_micro', cv = 10\n",
    "                                         )\n",
    "rfbertcv"
   ]
  },
  {
   "cell_type": "code",
   "execution_count": 117,
   "metadata": {
    "hidden": true
   },
   "outputs": [
    {
     "data": {
      "text/plain": [
       "array([0.94323144, 0.94323144, 0.93886463, 0.93886463, 0.94298246,\n",
       "       0.94298246, 0.94298246, 0.94298246, 0.94298246, 0.94298246])"
      ]
     },
     "execution_count": 117,
     "metadata": {},
     "output_type": "execute_result"
    }
   ],
   "source": []
  },
  {
   "cell_type": "code",
   "execution_count": 123,
   "metadata": {
    "hidden": true
   },
   "outputs": [
    {
     "data": {
      "image/png": "[encoded data removed]",
      "text/plain": [
       "<Figure size 1080x1800 with 1 Axes>"
      ]
     },
     "metadata": {},
     "output_type": "display_data"
    }
   ],
   "source": [
    "results = [logbertcv, rfbertcv, rftfcv, logtfcv, dummymfcv, dummycv]\n",
    "\n",
    "\n",
    "plt.style.use('ggplot')\n",
    "\n",
    "sns.set_context(\"poster\", font_scale=1.3)\n",
    "fig = plt.figure(figsize=(15,25))\n",
    "fig.suptitle('Category Classification Comparison')\n",
    "ax = fig.add_subplot(111)\n",
    "box = plt.boxplot(results, patch_artist=True)\n",
    "plt.xlabel('Model')\n",
    "plt.ylabel('Precision Score')\n",
    "ax.set_xticklabels(['BERT_LR', 'BERT_RF', 'Tfid_RF', 'Tfidf_LR', 'DMY_MF', 'DMY'])\n",
    "colors = ['cyan', 'lightblue', 'tan', 'purple', 'lightgreen', 'orange']\n",
    "for patch, color in zip(box['boxes'], colors):\n",
    "    patch.set_facecolor(color)\n",
    "plt.savefig('class_comparison_cat.png')\n",
    "plt.show()\n"
   ]
  },
  {
   "cell_type": "markdown",
   "metadata": {
    "heading_collapsed": true
   },
   "source": [
    "# TFIDF Sentiment"
   ]
  },
  {
   "cell_type": "code",
   "execution_count": 138,
   "metadata": {
    "hidden": true
   },
   "outputs": [],
   "source": [
    "\n",
    "\n",
    "list_labels = sent.tolist()\n",
    "X_train, X_test, y_train_sent, y_test_sent = train_test_split(list_corpus, list_labels, \n",
    "                                                    test_size=0.2,\n",
    "                                                    random_state=7274)\n",
    "X_train, tfidf_vectorizer = tfidf(X_train)\n",
    "X_test = tfidf_vectorizer.transform(X_test)\n"
   ]
  },
  {
   "cell_type": "code",
   "execution_count": 139,
   "metadata": {
    "hidden": true
   },
   "outputs": [
    {
     "name": "stdout",
     "output_type": "stream",
     "text": [
      "Fitting 3 folds for each of 100 candidates, totalling 300 fits\n"
     ]
    },
    {
     "name": "stderr",
     "output_type": "stream",
     "text": [
      "[Parallel(n_jobs=-1)]: Using backend LokyBackend with 12 concurrent workers.\n",
      "[Parallel(n_jobs=-1)]: Done  17 tasks      | elapsed:   29.6s\n",
      "[Parallel(n_jobs=-1)]: Done 138 tasks      | elapsed:  3.5min\n",
      "[Parallel(n_jobs=-1)]: Done 300 out of 300 | elapsed:  6.9min finished\n"
     ]
    },
    {
     "data": {
      "text/plain": [
       "RandomizedSearchCV(cv=3, estimator=RandomForestClassifier(), n_iter=100,\n",
       "                   n_jobs=-1,\n",
       "                   param_distributions={'bootstrap': [True, False],\n",
       "                                        'max_depth': [10, 21, 32, 44, 55, 67,\n",
       "                                                      78, 90, None],\n",
       "                                        'max_features': ['auto', 'sqrt'],\n",
       "                                        'min_samples_leaf': [1, 2, 4],\n",
       "                                        'min_samples_split': [2, 5, 10],\n",
       "                                        'n_estimators': [200, 400, 600, 800,\n",
       "                                                         1000]},\n",
       "                   random_state=1984, scoring='precision_micro', verbose=2)"
      ]
     },
     "execution_count": 139,
     "metadata": {},
     "output_type": "execute_result"
    }
   ],
   "source": [
    "# Random forest Randomized Search CV\n",
    "from sklearn.model_selection import RandomizedSearchCV\n",
    "#n_estimators = max trees\n",
    "n_estimators = [int(x) for x in np.linspace(start = 200, stop = 1000, num = 5)]\n",
    "#Max_features = max # of features considered at each split\n",
    "max_features = ['auto', 'sqrt']\n",
    "#max_depth = max #of levels in each decision tree\n",
    "max_depth = [int(x) for x in np.linspace(10, 90, num = 8)]\n",
    "max_depth.append(None)\n",
    "#Min_samples_split = min number of data points placed in a ndoe before node is split\n",
    "min_samples_split = [2, 5, 10]\n",
    "#min_samples_leaf= min number of data ponits allowed in a leaf node\n",
    "min_samples_leaf = [1, 2, 4]\n",
    "#bootstrap = method for sampling data points (with or without replacement)\n",
    "bootstrap = [True,False]\n",
    "\n",
    "random_grid = {'n_estimators' : n_estimators,\n",
    "              'max_features': max_features,\n",
    "              'max_depth': max_depth,\n",
    "              'min_samples_split': min_samples_split,\n",
    "              'min_samples_leaf': min_samples_leaf,\n",
    "              'bootstrap': bootstrap}\n",
    "\n",
    "#Use random grid to search for best parameters\n",
    "rf_tfidf = RandomForestClassifier()\n",
    "\n",
    "\n",
    "#Random search of parameters using 3 fold cross validation, seaerch across 100 different combinations\n",
    "#Use all cores\n",
    "\n",
    "rf_tfidf = RandomizedSearchCV(estimator = rf_tfidf, param_distributions= random_grid,\n",
    "                              n_iter=100, cv = 3, verbose = 2, random_state=1984,\n",
    "                              n_jobs = -1 , scoring = 'precision_micro' )\n",
    "rf_tfidf.fit(X_train, y_train_sent)\n"
   ]
  },
  {
   "cell_type": "code",
   "execution_count": 140,
   "metadata": {
    "hidden": true
   },
   "outputs": [
    {
     "data": {
      "text/plain": [
       "{'n_estimators': 400,\n",
       " 'min_samples_split': 10,\n",
       " 'min_samples_leaf': 1,\n",
       " 'max_features': 'sqrt',\n",
       " 'max_depth': 44,\n",
       " 'bootstrap': True}"
      ]
     },
     "execution_count": 140,
     "metadata": {},
     "output_type": "execute_result"
    }
   ],
   "source": [
    "#rf_tfidf.best_params_"
   ]
  },
  {
   "cell_type": "code",
   "execution_count": 153,
   "metadata": {
    "hidden": true
   },
   "outputs": [],
   "source": [
    "\n",
    "param_grid = {'n_estimators': [350, 375, 400, 425, 450],\n",
    " 'min_samples_split': [8, 9, 10, 11, 12],\n",
    " 'min_samples_leaf': [1, 2, 3],\n",
    " 'max_features': ['sqrt'],\n",
    " 'max_depth': [42,43,44,45,46],\n",
    " 'bootstrap': [True]}\n"
   ]
  },
  {
   "cell_type": "code",
   "execution_count": 154,
   "metadata": {
    "hidden": true
   },
   "outputs": [],
   "source": [
    "#Grid search RF \n",
    "from sklearn.model_selection import GridSearchCV\n",
    "\n",
    "# Create a based model\n",
    "rf_tfidf = RandomForestClassifier()\n",
    "# Instantiate the grid search model\n",
    "rf_tfidf_grid = GridSearchCV(estimator = rf_tfidf, param_grid = param_grid, \n",
    "                          cv = 3, n_jobs = -1, verbose = 2 , scoring = 'f1_micro')"
   ]
  },
  {
   "cell_type": "code",
   "execution_count": 155,
   "metadata": {
    "hidden": true
   },
   "outputs": [
    {
     "name": "stdout",
     "output_type": "stream",
     "text": [
      "Fitting 3 folds for each of 375 candidates, totalling 1125 fits\n"
     ]
    },
    {
     "name": "stderr",
     "output_type": "stream",
     "text": [
      "[Parallel(n_jobs=-1)]: Using backend LokyBackend with 12 concurrent workers.\n",
      "[Parallel(n_jobs=-1)]: Done  17 tasks      | elapsed:   17.9s\n",
      "[Parallel(n_jobs=-1)]: Done 138 tasks      | elapsed:  1.6min\n",
      "[Parallel(n_jobs=-1)]: Done 341 tasks      | elapsed:  4.0min\n",
      "[Parallel(n_jobs=-1)]: Done 624 tasks      | elapsed:  7.2min\n",
      "[Parallel(n_jobs=-1)]: Done 989 tasks      | elapsed: 11.5min\n",
      "[Parallel(n_jobs=-1)]: Done 1125 out of 1125 | elapsed: 12.9min finished\n"
     ]
    },
    {
     "data": {
      "text/plain": [
       "GridSearchCV(cv=3, estimator=RandomForestClassifier(), n_jobs=-1,\n",
       "             param_grid={'bootstrap': [True], 'max_depth': [42, 43, 44, 45, 46],\n",
       "                         'max_features': ['sqrt'],\n",
       "                         'min_samples_leaf': [1, 2, 3],\n",
       "                         'min_samples_split': [8, 9, 10, 11, 12],\n",
       "                         'n_estimators': [350, 375, 400, 425, 450]},\n",
       "             scoring='f1_micro', verbose=2)"
      ]
     },
     "execution_count": 155,
     "metadata": {},
     "output_type": "execute_result"
    }
   ],
   "source": [
    "rf_tfidf_grid.fit(X_train, y_train_sent)"
   ]
  },
  {
   "cell_type": "code",
   "execution_count": 156,
   "metadata": {
    "collapsed": true,
    "hidden": true
   },
   "outputs": [
    {
     "data": {
      "text/plain": [
       "{'bootstrap': True,\n",
       " 'ccp_alpha': 0.0,\n",
       " 'class_weight': None,\n",
       " 'criterion': 'gini',\n",
       " 'max_depth': 45,\n",
       " 'max_features': 'sqrt',\n",
       " 'max_leaf_nodes': None,\n",
       " 'max_samples': None,\n",
       " 'min_impurity_decrease': 0.0,\n",
       " 'min_impurity_split': None,\n",
       " 'min_samples_leaf': 1,\n",
       " 'min_samples_split': 11,\n",
       " 'min_weight_fraction_leaf': 0.0,\n",
       " 'n_estimators': 350,\n",
       " 'n_jobs': None,\n",
       " 'oob_score': False,\n",
       " 'random_state': None,\n",
       " 'verbose': 0,\n",
       " 'warm_start': False}"
      ]
     },
     "execution_count": 156,
     "metadata": {},
     "output_type": "execute_result"
    }
   ],
   "source": [
    "rf_tfidf= rf_tfidf_grid.best_estimator_\n",
    "# rf_tfidf.get_params()\n",
    "# {'bootstrap': True,\n",
    "#  'ccp_alpha': 0.0,\n",
    "#  'class_weight': None,\n",
    "#  'criterion': 'gini',\n",
    "#  'max_depth': 45,\n",
    "#  'max_features': 'sqrt',\n",
    "#  'max_leaf_nodes': None,\n",
    "#  'max_samples': None,\n",
    "#  'min_impurity_decrease': 0.0,\n",
    "#  'min_impurity_split': None,\n",
    "#  'min_samples_leaf': 1,\n",
    "#  'min_samples_split': 11,\n",
    "#  'min_weight_fraction_leaf': 0.0,\n",
    "#  'n_estimators': 350,\n",
    "#  'n_jobs': None,\n",
    "#  'oob_score': False,\n",
    "#  'random_state': None,\n",
    "#  'verbose': 0,\n",
    "#  'warm_start': False}"
   ]
  },
  {
   "cell_type": "code",
   "execution_count": 141,
   "metadata": {
    "hidden": true
   },
   "outputs": [],
   "source": [
    "# Logistic regression\n",
    "\n",
    "lg = LogisticRegression()\n",
    "\n",
    "penalties = ['l1', 'l2', 'elasticnet']\n",
    "C_range = [0.001, 0.01, 0.1, 1, 10, 100]\n",
    "iters = [int(x) for x in np.linspace(start = 200, stop = 1000, num = 5)]\n",
    "random_grid = {'penalty' : penalties,\n",
    "              'C': C_range,\n",
    "              'max_iter': iters\n",
    "              }\n"
   ]
  },
  {
   "cell_type": "code",
   "execution_count": 142,
   "metadata": {
    "collapsed": true,
    "hidden": true
   },
   "outputs": [
    {
     "name": "stdout",
     "output_type": "stream",
     "text": [
      "Fitting 3 folds for each of 90 candidates, totalling 270 fits\n"
     ]
    },
    {
     "name": "stderr",
     "output_type": "stream",
     "text": [
      "C:\\Users\\camer\\anaconda3\\envs\\insight\\lib\\site-packages\\sklearn\\model_selection\\_search.py:278: UserWarning: The total space of parameters 90 is smaller than n_iter=100. Running 90 iterations. For exhaustive searches, use GridSearchCV.\n",
      "  warnings.warn(\n",
      "[Parallel(n_jobs=-1)]: Using backend LokyBackend with 12 concurrent workers.\n",
      "[Parallel(n_jobs=-1)]: Done  19 tasks      | elapsed:    0.1s\n",
      "[Parallel(n_jobs=-1)]: Done 270 out of 270 | elapsed:    8.7s finished\n"
     ]
    },
    {
     "data": {
      "text/plain": [
       "RandomizedSearchCV(cv=3, estimator=LogisticRegression(), n_iter=100, n_jobs=-1,\n",
       "                   param_distributions={'C': [0.001, 0.01, 0.1, 1, 10, 100],\n",
       "                                        'max_iter': [200, 400, 600, 800, 1000],\n",
       "                                        'penalty': ['l1', 'l2', 'elasticnet']},\n",
       "                   random_state=1984, scoring='f1_micro', verbose=2)"
      ]
     },
     "execution_count": 142,
     "metadata": {},
     "output_type": "execute_result"
    }
   ],
   "source": [
    "lgrandomized = RandomizedSearchCV(estimator = lg, param_distributions= random_grid,\n",
    "                              n_iter=100, cv = 3, verbose = 2, random_state=1984,\n",
    "                              n_jobs = -1 , scoring = 'f1_micro' )\n",
    "lgrandomized.fit(X_train, y_train_sent)"
   ]
  },
  {
   "cell_type": "code",
   "execution_count": 148,
   "metadata": {
    "hidden": true
   },
   "outputs": [],
   "source": [
    "lgrandomized.best_params_\n",
    "param_grid = {'penalty': ['l2'], 'max_iter': [150, 175, 200, 225, 250],\n",
    "              'C': [0.001,0.002, 0.003 ]}"
   ]
  },
  {
   "cell_type": "code",
   "execution_count": 149,
   "metadata": {
    "hidden": true
   },
   "outputs": [],
   "source": [
    "from sklearn.model_selection import GridSearchCV\n",
    "\n",
    "# Create a based model\n",
    "lg_tfidf = LogisticRegression()\n",
    "# Instantiate the grid search model\n",
    "lg_tfidf_grid = GridSearchCV(estimator = lg_tfidf, param_grid = param_grid, \n",
    "                          cv = 3, n_jobs = -1, verbose = 2 , scoring = 'precision_micro')"
   ]
  },
  {
   "cell_type": "code",
   "execution_count": 150,
   "metadata": {
    "collapsed": true,
    "hidden": true
   },
   "outputs": [
    {
     "name": "stdout",
     "output_type": "stream",
     "text": [
      "Fitting 3 folds for each of 15 candidates, totalling 45 fits\n"
     ]
    },
    {
     "name": "stderr",
     "output_type": "stream",
     "text": [
      "[Parallel(n_jobs=-1)]: Using backend LokyBackend with 12 concurrent workers.\n",
      "[Parallel(n_jobs=-1)]: Done  17 tasks      | elapsed:    3.4s\n",
      "[Parallel(n_jobs=-1)]: Done  45 out of  45 | elapsed:    3.8s remaining:    0.0s\n",
      "[Parallel(n_jobs=-1)]: Done  45 out of  45 | elapsed:    3.8s finished\n"
     ]
    },
    {
     "data": {
      "text/plain": [
       "GridSearchCV(cv=3, estimator=LogisticRegression(), n_jobs=-1,\n",
       "             param_grid={'C': [0.001, 0.002, 0.003],\n",
       "                         'max_iter': [150, 175, 200, 225, 250],\n",
       "                         'penalty': ['l2']},\n",
       "             scoring='precision_micro', verbose=2)"
      ]
     },
     "execution_count": 150,
     "metadata": {},
     "output_type": "execute_result"
    }
   ],
   "source": [
    "lg_tfidf_grid.fit(X_train, y_train_sent)"
   ]
  },
  {
   "cell_type": "code",
   "execution_count": 163,
   "metadata": {
    "collapsed": true,
    "hidden": true
   },
   "outputs": [
    {
     "data": {
      "text/plain": [
       "{'C': 0.001,\n",
       " 'class_weight': None,\n",
       " 'dual': False,\n",
       " 'fit_intercept': True,\n",
       " 'intercept_scaling': 1,\n",
       " 'l1_ratio': None,\n",
       " 'max_iter': 150,\n",
       " 'multi_class': 'auto',\n",
       " 'n_jobs': None,\n",
       " 'penalty': 'l2',\n",
       " 'random_state': None,\n",
       " 'solver': 'lbfgs',\n",
       " 'tol': 0.0001,\n",
       " 'verbose': 0,\n",
       " 'warm_start': False}"
      ]
     },
     "execution_count": 163,
     "metadata": {},
     "output_type": "execute_result"
    }
   ],
   "source": [
    "lg_tfidf = lg_tfidf_grid.best_estimator_\n",
    "lg_tfidf.get_params()\n",
    "# {'C': 0.001,\n",
    "#  'class_weight': None,\n",
    "#  'dual': False,\n",
    "#  'fit_intercept': True,\n",
    "#  'intercept_scaling': 1,\n",
    "#  'l1_ratio': None,\n",
    "#  'max_iter': 150,\n",
    "#  'multi_class': 'auto',\n",
    "#  'n_jobs': None,\n",
    "#  'penalty': 'l2',\n",
    "#  'random_state': None,\n",
    "#  'solver': 'lbfgs',\n",
    "#  'tol': 0.0001,\n",
    "#  'verbose': 0,\n",
    "#  'warm_start': False}\n"
   ]
  },
  {
   "cell_type": "code",
   "execution_count": 152,
   "metadata": {
    "collapsed": true,
    "hidden": true
   },
   "outputs": [
    {
     "data": {
      "text/plain": [
       "array([0.60262009, 0.57641921, 0.59388646, 0.59825328, 0.60526316,\n",
       "       0.56140351, 0.60526316, 0.59210526, 0.60087719, 0.59649123])"
      ]
     },
     "execution_count": 152,
     "metadata": {},
     "output_type": "execute_result"
    }
   ],
   "source": [
    "#Cross evaluation compare\n",
    "from sklearn import model_selection\n",
    "logtfcv = model_selection.cross_val_score(lg_tfidf,X_train,y_train_sent,\n",
    "                                        scoring = 'f1_micro',cv=10\n",
    "                                         )\n",
    "logtfcv\n",
    "\n",
    "rftfcv = model_selection.cross_val_score(rf_tfidf,X_train,y_train_sent,\n",
    "                                        scoring = 'f1_micro', cv=10\n",
    "                                         )\n",
    "rftfcv"
   ]
  },
  {
   "cell_type": "code",
   "execution_count": 157,
   "metadata": {
    "hidden": true
   },
   "outputs": [
    {
     "name": "stderr",
     "output_type": "stream",
     "text": [
      "C:\\Users\\camer\\anaconda3\\envs\\insight\\lib\\site-packages\\sklearn\\dummy.py:131: FutureWarning: The default value of strategy will change from stratified to prior in 0.24.\n",
      "  warnings.warn(\"The default value of strategy will change from \"\n"
     ]
    },
    {
     "data": {
      "text/plain": [
       "array([0.48034934, 0.43668122, 0.49344978, 0.44104803, 0.44736842,\n",
       "       0.41666667, 0.42982456, 0.44736842, 0.49561404, 0.46491228])"
      ]
     },
     "execution_count": 157,
     "metadata": {},
     "output_type": "execute_result"
    }
   ],
   "source": [
    "#dumm cross eval\n",
    "dummymfcv = model_selection.cross_val_score(dummy_mf,X_train,y_train_sent,\n",
    "                                        scoring = 'f1_micro',cv=10\n",
    "                                         )\n",
    "dummymfcv\n",
    "\n",
    "dummycv = model_selection.cross_val_score(dummy,X_train,y_train_sent,\n",
    "                                        scoring = 'f1_micro', cv=10\n",
    "                                         )\n",
    "dummycv"
   ]
  },
  {
   "cell_type": "markdown",
   "metadata": {
    "heading_collapsed": true
   },
   "source": [
    "# NN Sent"
   ]
  },
  {
   "cell_type": "code",
   "execution_count": 158,
   "metadata": {
    "hidden": true
   },
   "outputs": [
    {
     "name": "stdout",
     "output_type": "stream",
     "text": [
      "Fitting 3 folds for each of 100 candidates, totalling 300 fits\n"
     ]
    },
    {
     "name": "stderr",
     "output_type": "stream",
     "text": [
      "[Parallel(n_jobs=-1)]: Using backend LokyBackend with 12 concurrent workers.\n",
      "[Parallel(n_jobs=-1)]: Done  17 tasks      | elapsed:  1.2min\n",
      "[Parallel(n_jobs=-1)]: Done 138 tasks      | elapsed:  8.1min\n",
      "[Parallel(n_jobs=-1)]: Done 300 out of 300 | elapsed: 16.3min finished\n"
     ]
    },
    {
     "data": {
      "text/plain": [
       "RandomizedSearchCV(cv=3, estimator=RandomForestClassifier(), n_iter=100,\n",
       "                   n_jobs=-1,\n",
       "                   param_distributions={'bootstrap': [True, False],\n",
       "                                        'max_depth': [10, 21, 32, 44, 55, 67,\n",
       "                                                      78, 90, None],\n",
       "                                        'max_features': ['auto', 'sqrt'],\n",
       "                                        'min_samples_leaf': [1, 2, 4],\n",
       "                                        'min_samples_split': [2, 5, 10],\n",
       "                                        'n_estimators': [200, 400, 600, 800,\n",
       "                                                         1000]},\n",
       "                   random_state=1984, scoring='precision_micro', verbose=2)"
      ]
     },
     "execution_count": 158,
     "metadata": {},
     "output_type": "execute_result"
    }
   ],
   "source": [
    "from sklearn.model_selection import RandomizedSearchCV\n",
    "#n_estimators = max trees\n",
    "n_estimators = [int(x) for x in np.linspace(start = 200, stop = 1000, num = 5)]\n",
    "#Max_features = max # of features considered at each split\n",
    "max_features = ['auto', 'sqrt']\n",
    "#max_depth = max #of levels in each decision tree\n",
    "max_depth = [int(x) for x in np.linspace(10, 90, num = 8)]\n",
    "max_depth.append(None)\n",
    "#Min_samples_split = min number of data points placed in a ndoe before node is split\n",
    "min_samples_split = [2, 5, 10]\n",
    "#min_samples_leaf= min number of data ponits allowed in a leaf node\n",
    "min_samples_leaf = [1, 2, 4]\n",
    "#bootstrap = method for sampling data points (with or without replacement)\n",
    "bootstrap = [True,False]\n",
    "\n",
    "random_grid = {'n_estimators' : n_estimators,\n",
    "              'max_features': max_features,\n",
    "              'max_depth': max_depth,\n",
    "              'min_samples_split': min_samples_split,\n",
    "              'min_samples_leaf': min_samples_leaf,\n",
    "              'bootstrap': bootstrap}\n",
    "\n",
    "\n",
    "\n",
    "rf_bert = RandomForestClassifier()\n",
    "\n",
    "\n",
    "#Random search of parameters using 3 fold cross validation, seaerch across 100 different combinations\n",
    "#Use all cores\n",
    "\n",
    "rf_bert = RandomizedSearchCV(estimator = rf_bert, param_distributions= random_grid,\n",
    "                              n_iter=100, cv = 3, verbose = 2, random_state=1984,\n",
    "                              n_jobs = -1 , scoring = 'f1_micro' )\n",
    "\n",
    "\n",
    "rf_bert.fit(x_train_features, y_train_sent)\n"
   ]
  },
  {
   "cell_type": "code",
   "execution_count": 164,
   "metadata": {
    "hidden": true
   },
   "outputs": [],
   "source": [
    "#Random forest randomized cv\n",
    "\n",
    "param_grid = {'n_estimators': [150, 175, 200, 225, 250],\n",
    " 'min_samples_split': [3, 4,5, 6, 7],\n",
    " 'min_samples_leaf': [1,2,3],\n",
    " 'max_features': ['auto'],\n",
    " 'max_depth': [53,54,55,56,57],\n",
    " 'bootstrap': [True]} \n",
    "#rf_bert.best_params_"
   ]
  },
  {
   "cell_type": "code",
   "execution_count": 165,
   "metadata": {
    "hidden": true
   },
   "outputs": [
    {
     "name": "stdout",
     "output_type": "stream",
     "text": [
      "Fitting 3 folds for each of 375 candidates, totalling 1125 fits\n"
     ]
    },
    {
     "name": "stderr",
     "output_type": "stream",
     "text": [
      "[Parallel(n_jobs=-1)]: Using backend LokyBackend with 12 concurrent workers.\n",
      "[Parallel(n_jobs=-1)]: Done  17 tasks      | elapsed:   22.8s\n",
      "[Parallel(n_jobs=-1)]: Done 138 tasks      | elapsed:  2.2min\n",
      "[Parallel(n_jobs=-1)]: Done 341 tasks      | elapsed:  5.1min\n",
      "[Parallel(n_jobs=-1)]: Done 624 tasks      | elapsed:  9.2min\n",
      "[Parallel(n_jobs=-1)]: Done 989 tasks      | elapsed: 14.5min\n",
      "[Parallel(n_jobs=-1)]: Done 1125 out of 1125 | elapsed: 16.4min finished\n"
     ]
    },
    {
     "data": {
      "text/plain": [
       "{'bootstrap': True,\n",
       " 'ccp_alpha': 0.0,\n",
       " 'class_weight': None,\n",
       " 'criterion': 'gini',\n",
       " 'max_depth': 56,\n",
       " 'max_features': 'auto',\n",
       " 'max_leaf_nodes': None,\n",
       " 'max_samples': None,\n",
       " 'min_impurity_decrease': 0.0,\n",
       " 'min_impurity_split': None,\n",
       " 'min_samples_leaf': 2,\n",
       " 'min_samples_split': 4,\n",
       " 'min_weight_fraction_leaf': 0.0,\n",
       " 'n_estimators': 150,\n",
       " 'n_jobs': None,\n",
       " 'oob_score': False,\n",
       " 'random_state': None,\n",
       " 'verbose': 0,\n",
       " 'warm_start': False}"
      ]
     },
     "execution_count": 165,
     "metadata": {},
     "output_type": "execute_result"
    }
   ],
   "source": [
    "\n",
    "\n",
    "# Create a based model\n",
    "rf_bert = RandomForestClassifier()\n",
    "# Instantiate the grid search model\n",
    "rf_bert_grid = GridSearchCV(estimator = rf_bert, param_grid = param_grid, \n",
    "                          cv = 3, n_jobs = -1, verbose = 2 , scoring = 'f1_micro')\n",
    "\n",
    "rf_bert_grid.fit(x_train_features, y_train_sent)\n",
    "\n",
    "rf_bert = rf_bert_grid.best_estimator_\n",
    "\n",
    "rf_bert.get_params()"
   ]
  },
  {
   "cell_type": "code",
   "execution_count": 160,
   "metadata": {
    "collapsed": true,
    "hidden": true
   },
   "outputs": [
    {
     "name": "stdout",
     "output_type": "stream",
     "text": [
      "Fitting 3 folds for each of 90 candidates, totalling 270 fits\n"
     ]
    },
    {
     "name": "stderr",
     "output_type": "stream",
     "text": [
      "C:\\Users\\camer\\anaconda3\\envs\\insight\\lib\\site-packages\\sklearn\\model_selection\\_search.py:278: UserWarning: The total space of parameters 90 is smaller than n_iter=100. Running 90 iterations. For exhaustive searches, use GridSearchCV.\n",
      "  warnings.warn(\n",
      "[Parallel(n_jobs=-1)]: Using backend LokyBackend with 12 concurrent workers.\n",
      "[Parallel(n_jobs=-1)]: Done  19 tasks      | elapsed:    0.2s\n",
      "[Parallel(n_jobs=-1)]: Done 208 tasks      | elapsed:   21.4s\n",
      "[Parallel(n_jobs=-1)]: Done 270 out of 270 | elapsed:   46.4s finished\n"
     ]
    },
    {
     "data": {
      "text/plain": [
       "RandomizedSearchCV(cv=3, estimator=LogisticRegression(), n_iter=100, n_jobs=-1,\n",
       "                   param_distributions={'C': [0.001, 0.01, 0.1, 1, 10, 100],\n",
       "                                        'max_iter': [200, 400, 600, 800, 1000],\n",
       "                                        'penalty': ['l1', 'l2', 'elasticnet']},\n",
       "                   random_state=1984, scoring='precision_micro', verbose=2)"
      ]
     },
     "execution_count": 160,
     "metadata": {},
     "output_type": "execute_result"
    }
   ],
   "source": [
    "#Logistic regression\n",
    "\n",
    "lg = LogisticRegression()\n",
    "\n",
    "penalties = ['l1', 'l2', 'elasticnet']\n",
    "C_range = [0.001, 0.01, 0.1, 1, 10, 100]\n",
    "iters = [int(x) for x in np.linspace(start = 200, stop = 1000, num = 5)]\n",
    "random_grid = {'penalty' : penalties,\n",
    "              'C': C_range,\n",
    "              'max_iter': iters\n",
    "              }\n",
    "lgrandomized = RandomizedSearchCV(estimator = lg, param_distributions= random_grid,\n",
    "                              n_iter=100, cv = 3, verbose = 2, random_state=1984,\n",
    "                              n_jobs = -1 , scoring = 'f1_micro' )\n",
    "lgrandomized.fit(x_train_features, y_train_cat)\n",
    "\n",
    "\n"
   ]
  },
  {
   "cell_type": "code",
   "execution_count": 166,
   "metadata": {
    "hidden": true
   },
   "outputs": [],
   "source": [
    "param_grid ={'penalty': ['l2'], 'max_iter': [150,175,200,20025,250], \n",
    "             'C': [0.001,0.002, 0.003]}\n",
    "#lgrandomized.best_params_"
   ]
  },
  {
   "cell_type": "code",
   "execution_count": 167,
   "metadata": {
    "hidden": true
   },
   "outputs": [
    {
     "name": "stdout",
     "output_type": "stream",
     "text": [
      "Fitting 3 folds for each of 15 candidates, totalling 45 fits\n"
     ]
    },
    {
     "name": "stderr",
     "output_type": "stream",
     "text": [
      "[Parallel(n_jobs=-1)]: Using backend LokyBackend with 12 concurrent workers.\n",
      "[Parallel(n_jobs=-1)]: Done  17 tasks      | elapsed:    2.7s\n",
      "[Parallel(n_jobs=-1)]: Done  45 out of  45 | elapsed:    5.8s remaining:    0.0s\n",
      "[Parallel(n_jobs=-1)]: Done  45 out of  45 | elapsed:    5.8s finished\n"
     ]
    },
    {
     "data": {
      "text/plain": [
       "{'C': 0.003,\n",
       " 'class_weight': None,\n",
       " 'dual': False,\n",
       " 'fit_intercept': True,\n",
       " 'intercept_scaling': 1,\n",
       " 'l1_ratio': None,\n",
       " 'max_iter': 150,\n",
       " 'multi_class': 'auto',\n",
       " 'n_jobs': None,\n",
       " 'penalty': 'l2',\n",
       " 'random_state': None,\n",
       " 'solver': 'lbfgs',\n",
       " 'tol': 0.0001,\n",
       " 'verbose': 0,\n",
       " 'warm_start': False}"
      ]
     },
     "execution_count": 167,
     "metadata": {},
     "output_type": "execute_result"
    }
   ],
   "source": [
    "\n",
    "\n",
    "# Create a based model\n",
    "lg_bert = LogisticRegression()\n",
    "# Instantiate the grid search model\n",
    "lg_bert_grid = GridSearchCV(estimator = lg_bert, param_grid = param_grid, \n",
    "                          cv = 3, n_jobs = -1, verbose = 2 , scoring = 'f1_micro')\n",
    "\n",
    "lg_bert_grid.fit(x_train_features, y_train_sent)\n",
    "\n",
    "lg_bert = lg_bert_grid.best_estimator_\n",
    "\n",
    "lg_bert.get_params()\n"
   ]
  },
  {
   "cell_type": "code",
   "execution_count": 168,
   "metadata": {
    "hidden": true
   },
   "outputs": [
    {
     "data": {
      "text/plain": [
       "array([0.59825328, 0.58515284, 0.63318777, 0.58078603, 0.58333333,\n",
       "       0.61403509, 0.60964912, 0.62280702, 0.60964912, 0.60087719])"
      ]
     },
     "execution_count": 168,
     "metadata": {},
     "output_type": "execute_result"
    }
   ],
   "source": [
    "\n",
    "\n",
    "logbertcv = model_selection.cross_val_score(lg_bert,x_train_features,y_train_sent,\n",
    "                                        scoring = 'f1_micro',cv = 10\n",
    "                                         )\n",
    "logbertcv\n",
    "\n",
    "rfbertcv = model_selection.cross_val_score(rf_bert,x_train_features,y_train_sent,\n",
    "                                        scoring = 'f1_micro', cv = 10\n",
    "                                         )\n",
    "rfbertcv\n"
   ]
  },
  {
   "cell_type": "code",
   "execution_count": 172,
   "metadata": {
    "hidden": true
   },
   "outputs": [
    {
     "data": {
      "image/png": "[encoded data removed]",
      "text/plain": [
       "<Figure size 2160x1440 with 1 Axes>"
      ]
     },
     "metadata": {},
     "output_type": "display_data"
    }
   ],
   "source": [
    "\n",
    "results = [logbertcv, rfbertcv, rftfcv, logtfcv, dummymfcv, dummycv]\n",
    "\n",
    "\n",
    "plt.style.use('ggplot')\n",
    "\n",
    "sns.set_context(\"poster\", font_scale=1.3)\n",
    "fig = plt.figure(figsize=(30,20))\n",
    "fig.suptitle('Sentiment Classification Comparison')\n",
    "ax = fig.add_subplot(111)\n",
    "box = plt.boxplot(results, patch_artist=True)\n",
    "plt.xlabel('Model')\n",
    "plt.ylabel('F1 Score')\n",
    "ax.set_xticklabels(['BERT_LR', 'BERT_RF', 'Tfid_RF', 'Tfidf_LR', 'DMY_MF', 'DMY'])\n",
    "colors = ['cyan', 'lightblue', 'tan', 'purple', 'lightgreen', 'orange']\n",
    "for patch, color in zip(box['boxes'], colors):\n",
    "    patch.set_facecolor(color)\n",
    "plt.savefig('class_comparison_sent.png')\n",
    "plt.show()"
   ]
  }
 ],
 "metadata": {
  "kernelspec": {
   "display_name": "insight",
   "language": "python",
   "name": "insight"
  },
  "language_info": {
   "codemirror_mode": {
    "name": "ipython",
    "version": 3
   },
   "file_extension": ".py",
   "mimetype": "text/x-python",
   "name": "python",
   "nbconvert_exporter": "python",
   "pygments_lexer": "ipython3",
   "version": "3.8.2"
  },
  "toc": {
   "base_numbering": 1,
   "nav_menu": {},
   "number_sections": true,
   "sideBar": true,
   "skip_h1_title": false,
   "title_cell": "Table of Contents",
   "title_sidebar": "Contents",
   "toc_cell": false,
   "toc_position": {},
   "toc_section_display": true,
   "toc_window_display": false
  },
  "varInspector": {
   "cols": {
    "lenName": 16,
    "lenType": 16,
    "lenVar": 40
   },
   "kernels_config": {
    "python": {
     "delete_cmd_postfix": "",
     "delete_cmd_prefix": "del ",
     "library": "var_list.py",
     "varRefreshCmd": "print(var_dic_list())"
    },
    "r": {
     "delete_cmd_postfix": ") ",
     "delete_cmd_prefix": "rm(",
     "library": "var_list.r",
     "varRefreshCmd": "cat(var_dic_list()) "
    }
   },
   "types_to_exclude": [
    "module",
    "function",
    "builtin_function_or_method",
    "instance",
    "_Feature"
   ],
   "window_display": false
  }
 },
 "nbformat": 4,
 "nbformat_minor": 4
}
